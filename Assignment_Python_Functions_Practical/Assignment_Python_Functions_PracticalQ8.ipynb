{
  "nbformat": 4,
  "nbformat_minor": 0,
  "metadata": {
    "colab": {
      "provenance": []
    },
    "kernelspec": {
      "name": "python3",
      "display_name": "Python 3"
    },
    "language_info": {
      "name": "python"
    }
  },
  "cells": [
    {
      "cell_type": "code",
      "execution_count": 1,
      "metadata": {
        "colab": {
          "base_uri": "https://localhost:8080/"
        },
        "id": "LHZ3-VOrcwNv",
        "outputId": "b0c7441b-4613-4183-f9a0-650a9dfcfae4"
      },
      "outputs": [
        {
          "output_type": "stream",
          "name": "stdout",
          "text": [
            "[(5, 0, 4, 3), (4, 1, 8, 2), (2, 2, 5, 6), (1, 3, 7, 9)]\n"
          ]
        }
      ],
      "source": [
        "# Example list of 4-element tuples\n",
        "example_tuples = [(1, 3, 7, 9), (4, 1, 8, 2), (2, 2, 5, 6), (5, 0, 4, 3)]\n",
        "\n",
        "# Sorting the list based on the second element of each tuple\n",
        "sorted_tuples = sorted(example_tuples, key=lambda x: x[1])\n",
        "\n",
        "print(sorted_tuples)\n"
      ]
    }
  ]
}