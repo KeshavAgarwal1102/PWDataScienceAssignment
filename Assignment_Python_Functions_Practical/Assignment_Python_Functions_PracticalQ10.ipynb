{
  "nbformat": 4,
  "nbformat_minor": 0,
  "metadata": {
    "colab": {
      "provenance": []
    },
    "kernelspec": {
      "name": "python3",
      "display_name": "Python 3"
    },
    "language_info": {
      "name": "python"
    }
  },
  "cells": [
    {
      "cell_type": "code",
      "execution_count": 1,
      "metadata": {
        "colab": {
          "base_uri": "https://localhost:8080/"
        },
        "id": "jogEM1CfncyD",
        "outputId": "00bf9813-9c41-4dcb-d91b-4928fbdd0b32"
      },
      "outputs": [
        {
          "output_type": "stream",
          "name": "stdout",
          "text": [
            "Original string: This is an example string.\n",
            "String without vowels: Ths s n xmpl strng.\n",
            "String without vowels: Ths s n xmpl strng.\n"
          ]
        }
      ],
      "source": [
        "# Function to check if a character is not a vowel\n",
        "def is_not_vowel(char):\n",
        "    vowels = \"aeiouAEIOU\"\n",
        "    return char not in vowels\n",
        "\n",
        "# Input string\n",
        "input_string = \"This is an example string.\"\n",
        "\n",
        "# Use filter() to remove vowels\n",
        "filtered_string = ''.join(filter(is_not_vowel, input_string))\n",
        "\n",
        "# Print the result\n",
        "print(\"Original string:\", input_string)\n",
        "print(\"String without vowels:\", filtered_string)\n",
        "\n",
        "\n",
        "# Use filter() with a lambda function\n",
        "filtered_string = ''.join(filter(lambda char: char not in \"aeiouAEIOU\", input_string))\n",
        "print(\"String without vowels:\", filtered_string)"
      ]
    }
  ]
}