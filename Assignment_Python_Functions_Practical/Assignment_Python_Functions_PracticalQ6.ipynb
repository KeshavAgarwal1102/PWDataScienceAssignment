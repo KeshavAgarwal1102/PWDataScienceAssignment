{
  "nbformat": 4,
  "nbformat_minor": 0,
  "metadata": {
    "colab": {
      "provenance": []
    },
    "kernelspec": {
      "name": "python3",
      "display_name": "Python 3"
    },
    "language_info": {
      "name": "python"
    }
  },
  "cells": [
    {
      "cell_type": "code",
      "execution_count": 2,
      "metadata": {
        "colab": {
          "base_uri": "https://localhost:8080/"
        },
        "id": "DcceOJVxaEmA",
        "outputId": "5db260d0-3009-4861-df8b-1c2498ab895d"
      },
      "outputs": [
        {
          "output_type": "stream",
          "name": "stdout",
          "text": [
            "1\n",
            "2\n",
            "4\n",
            "8\n",
            "16\n",
            "32\n"
          ]
        },
        {
          "output_type": "execute_result",
          "data": {
            "text/plain": [
              "int"
            ]
          },
          "metadata": {},
          "execution_count": 2
        }
      ],
      "source": [
        "def powers_of_two(max_exponent):\n",
        "    \"\"\"\n",
        "    A generator function that yields powers of 2 up to the given exponent.\n",
        "\n",
        "    Parameters:\n",
        "        max_exponent (int): The maximum exponent for powers of 2.\n",
        "\n",
        "    Yields:\n",
        "        int: The powers of 2 from 2^0 to 2^max_exponent.\n",
        "    \"\"\"\n",
        "    for exponent in range(max_exponent + 1):\n",
        "        yield 2 ** exponent\n",
        "\n",
        "# Example usage:\n",
        "for power in powers_of_two(5):\n",
        "    print(power)\n",
        "type(power)\n"
      ]
    }
  ]
}