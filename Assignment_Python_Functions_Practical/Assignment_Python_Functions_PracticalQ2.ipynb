{
  "nbformat": 4,
  "nbformat_minor": 0,
  "metadata": {
    "colab": {
      "provenance": []
    },
    "kernelspec": {
      "name": "python3",
      "display_name": "Python 3"
    },
    "language_info": {
      "name": "python"
    }
  },
  "cells": [
    {
      "cell_type": "code",
      "execution_count": null,
      "metadata": {
        "id": "WUWcfXIzS1FZ"
      },
      "outputs": [],
      "source": [
        "def reverse_string(s):\n",
        "    \"\"\"\n",
        "    Reverse the given string.\n",
        "\n",
        "    Parameters:\n",
        "        s (str): The input string.\n",
        "\n",
        "    Returns:\n",
        "        str: The reversed string.\n",
        "    \"\"\"\n",
        "    return s[::-1]\n",
        "\n",
        "# Example usage:\n",
        "example_string = \"hello\"\n",
        "print(reverse_string(example_string))  # Output: \"olleh\""
      ]
    }
  ]
}