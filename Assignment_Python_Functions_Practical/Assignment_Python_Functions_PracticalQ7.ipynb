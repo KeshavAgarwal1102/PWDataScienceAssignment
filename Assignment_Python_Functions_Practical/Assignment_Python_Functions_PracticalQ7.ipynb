{
  "nbformat": 4,
  "nbformat_minor": 0,
  "metadata": {
    "colab": {
      "provenance": []
    },
    "kernelspec": {
      "name": "python3",
      "display_name": "Python 3"
    },
    "language_info": {
      "name": "python"
    }
  },
  "cells": [
    {
      "cell_type": "code",
      "execution_count": null,
      "metadata": {
        "id": "uHITXGxXbab3"
      },
      "outputs": [],
      "source": [
        "def read_file_line_by_line(file_path):\n",
        "    \"\"\"\n",
        "    A generator function that reads a file line by line and yields each line.\n",
        "\n",
        "    Parameters:\n",
        "        file_path (str): The path to the file to read.\n",
        "\n",
        "    Yields:\n",
        "        str: The next line in the file.\n",
        "    \"\"\"\n",
        "    try:\n",
        "        with open(file_path, 'r') as file:\n",
        "            for line in file:\n",
        "                yield line.rstrip('\\n')  # Remove the newline character at the end\n",
        "    except FileNotFoundError:\n",
        "        print(f\"Error: The file '{file_path}' was not found.\")\n",
        "    except Exception as e:\n",
        "        print(f\"An error occurred: {e}\")\n",
        "\n",
        "# Example usage:\n",
        "# Assuming 'example.txt' is a valid text file in the same directory\n",
        "file_path = 'example.txt'\n",
        "for line in read_file_line_by_line(file_path):\n",
        "    print(line)"
      ]
    }
  ]
}