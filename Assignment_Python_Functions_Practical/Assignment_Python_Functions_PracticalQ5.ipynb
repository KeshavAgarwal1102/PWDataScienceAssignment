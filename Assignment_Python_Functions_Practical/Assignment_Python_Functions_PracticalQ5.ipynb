{
  "nbformat": 4,
  "nbformat_minor": 0,
  "metadata": {
    "colab": {
      "provenance": []
    },
    "kernelspec": {
      "name": "python3",
      "display_name": "Python 3"
    },
    "language_info": {
      "name": "python"
    }
  },
  "cells": [
    {
      "cell_type": "code",
      "execution_count": null,
      "metadata": {
        "id": "ochxndQIZdcC"
      },
      "outputs": [],
      "source": [
        "class FibonacciIterator:\n",
        "    \"\"\"\n",
        "    An iterator that generates the Fibonacci sequence up to a specified number of terms.\n",
        "    \"\"\"\n",
        "    def __init__(self, n_terms):\n",
        "        \"\"\"\n",
        "        Initialize the iterator.\n",
        "\n",
        "        Parameters:\n",
        "            n_terms (int): The number of terms in the Fibonacci sequence to generate.\n",
        "        \"\"\"\n",
        "        self.n_terms = n_terms\n",
        "        self.current_term = 0\n",
        "        self.a, self.b = 0, 1  # Starting values for the Fibonacci sequence\n",
        "\n",
        "    def __iter__(self):\n",
        "        return self\n",
        "\n",
        "    def __next__(self):\n",
        "        if self.current_term >= self.n_terms:\n",
        "            raise StopIteration\n",
        "        if self.current_term == 0:\n",
        "            self.current_term += 1\n",
        "            return self.a\n",
        "        elif self.current_term == 1:\n",
        "            self.current_term += 1\n",
        "            return self.b\n",
        "        else:\n",
        "            self.current_term += 1\n",
        "            self.a, self.b = self.b, self.a + self.b\n",
        "            return self.a\n",
        "\n",
        "# Example usage:\n",
        "fibonacci = FibonacciIterator(10)\n",
        "for num in fibonacci:\n",
        "    print(num)"
      ]
    }
  ]
}