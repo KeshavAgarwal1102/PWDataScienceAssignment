{
  "nbformat": 4,
  "nbformat_minor": 0,
  "metadata": {
    "colab": {
      "provenance": []
    },
    "kernelspec": {
      "name": "python3",
      "display_name": "Python 3"
    },
    "language_info": {
      "name": "python"
    }
  },
  "cells": [
    {
      "cell_type": "code",
      "execution_count": 1,
      "metadata": {
        "colab": {
          "base_uri": "https://localhost:8080/"
        },
        "id": "ovJsEcUbsXni",
        "outputId": "d1ab404f-722f-46ca-feaf-609f3d066333"
      },
      "outputs": [
        {
          "output_type": "stream",
          "name": "stdout",
          "text": [
            "[(34587, 163.8), (98762, 170.39999999999998), (77226, 59.98), (88112, 164.75)]\n"
          ]
        }
      ],
      "source": [
        "# List of orders (Order Number, Book Title & Author, Quantity, Price per Item)\n",
        "orders = [\n",
        "    (34587, \"Learning Python, Mark Lutz\", 4, 40.95),\n",
        "    (98762, \"Head First Python, Paul Barry\", 3, 56.80),\n",
        "    (77226, \"Einführung in Python3, Bernd Klein\", 2, 24.99),\n",
        "    (88112, \"Python Crash Course, Eric Matthes\", 5, 32.95)\n",
        "]\n",
        "\n",
        "# Using lambda and map to calculate order total and adjust if necessary\n",
        "result = list(map(lambda order: (order[0], (order[2] * order[3]) + 10 if (order[2] * order[3]) < 100 else order[2] * order[3]), orders))\n",
        "\n",
        "# Print the result\n",
        "print(result)"
      ]
    }
  ]
}