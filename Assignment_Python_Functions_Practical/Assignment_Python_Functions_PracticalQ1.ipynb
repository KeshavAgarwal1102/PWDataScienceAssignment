{
  "nbformat": 4,
  "nbformat_minor": 0,
  "metadata": {
    "colab": {
      "provenance": []
    },
    "kernelspec": {
      "name": "python3",
      "display_name": "Python 3"
    },
    "language_info": {
      "name": "python"
    }
  },
  "cells": [
    {
      "cell_type": "code",
      "execution_count": 1,
      "metadata": {
        "colab": {
          "base_uri": "https://localhost:8080/"
        },
        "id": "MQMptAovNyqf",
        "outputId": "923cfd8f-e3cb-4675-ba30-194f6bcf2706"
      },
      "outputs": [
        {
          "output_type": "stream",
          "name": "stdout",
          "text": [
            "12\n"
          ]
        }
      ],
      "source": [
        "def sum_of_evens(numbers):\n",
        "    \"\"\"\n",
        "    Calculate the sum of all even numbers in a list.\n",
        "\n",
        "    Parameters:\n",
        "        numbers (list): A list of integers.\n",
        "\n",
        "    Returns:\n",
        "        int: The sum of all even numbers in the list.\n",
        "    \"\"\"\n",
        "    return sum(num for num in numbers if num % 2 == 0)\n",
        "\n",
        "# Example usage:\n",
        "example_list = [1, 2, 3, 4, 5, 6]\n",
        "print(sum_of_evens(example_list))"
      ]
    }
  ]
}