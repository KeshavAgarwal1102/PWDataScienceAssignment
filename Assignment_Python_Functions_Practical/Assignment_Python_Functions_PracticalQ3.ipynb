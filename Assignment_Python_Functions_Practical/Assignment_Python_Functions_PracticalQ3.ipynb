{
  "nbformat": 4,
  "nbformat_minor": 0,
  "metadata": {
    "colab": {
      "provenance": []
    },
    "kernelspec": {
      "name": "python3",
      "display_name": "Python 3"
    },
    "language_info": {
      "name": "python"
    }
  },
  "cells": [
    {
      "cell_type": "code",
      "execution_count": null,
      "metadata": {
        "id": "_Lq8m9FMTFem"
      },
      "outputs": [],
      "source": [
        "def square_numbers(numbers):\n",
        "    \"\"\"\n",
        "    Return a new list containing the squares of each number in the input list.\n",
        "\n",
        "    Parameters:\n",
        "        numbers (list): A list of integers.\n",
        "\n",
        "    Returns:\n",
        "        list: A list containing the squares of the input numbers.\n",
        "    \"\"\"\n",
        "    return [num ** 2 for num in numbers]\n",
        "\n",
        "example_list = [1, 2, 3, 4, 5]\n",
        "print(square_numbers(example_list))  # Output: [1, 4, 9, 16, 25]"
      ]
    }
  ]
}