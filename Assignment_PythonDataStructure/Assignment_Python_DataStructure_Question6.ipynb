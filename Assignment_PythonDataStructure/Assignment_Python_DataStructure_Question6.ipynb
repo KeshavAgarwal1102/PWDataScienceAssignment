{
  "nbformat": 4,
  "nbformat_minor": 0,
  "metadata": {
    "colab": {
      "provenance": []
    },
    "kernelspec": {
      "name": "python3",
      "display_name": "Python 3"
    },
    "language_info": {
      "name": "python"
    }
  },
  "cells": [
    {
      "cell_type": "code",
      "execution_count": 1,
      "metadata": {
        "id": "h2nuTcmcL3K8"
      },
      "outputs": [],
      "source": [
        "# Tuples\n",
        "# A tuple is an immutable, ordered collection of elements. It is typically used for storing fixed-size collections of heterogeneous (or sometimes homogeneous) data.\n",
        "\n",
        "# Use Cases:\n",
        "\n",
        "# 1.Fixed Grouping of Data:\n",
        "# Used to represent a fixed collection of related values (e.g., coordinates, RGB color values).\n",
        "\n",
        "point = (10, 20)  # A tuple representing a 2D point\n",
        "\n",
        "# 2.Return Multiple Values from Functions:\n",
        "\n",
        "# Efficiently returns multiple values from a function.\n",
        "\n",
        "def get_name_and_age():\n",
        "    return \"Alice\", 30  # Returns a tuple.\n",
        "\n",
        "name, age = get_name_and_age()\n",
        "\n",
        "# 3.Constant Data:\n",
        "\n",
        "# Ideal for representing constant values that shouldn't change during execution.\n",
        "\n",
        "DIRECTIONS = (\"north\", \"east\", \"south\", \"west\")\n",
        "\n",
        "# 4.As Keys in Dictionaries:\n",
        "\n",
        "# Since tuples are hashable, they can be used as keys in dictionaries.\n",
        "\n",
        "locations = {(\"latitude\", \"longitude\"): \"New York\"}\n",
        "\n"
      ]
    },
    {
      "cell_type": "code",
      "source": [
        "# Sets\n",
        "# A set is an unordered collection of unique elements, primarily used when membership and uniqueness are important\n",
        "\n",
        "# Use Cases:\n",
        "\n",
        "# 1.Removing Duplicates:\n",
        "\n",
        "# Automatically removes duplicate elements from a collection.\n",
        "\n",
        "numbers = [1, 2, 2, 3, 4, 4]\n",
        "unique_numbers = set(numbers)  # {1, 2, 3, 4}\n",
        "\n",
        "\n",
        "# 2.Membership Testing:\n",
        "\n",
        "# Ideal for scenarios requiring frequent membership checks.\n",
        "\n",
        "allowed_users = {\"alice\", \"bob\", \"charlie\"}\n",
        "if \"alice\" in allowed_users:\n",
        "    print(\"Access granted.\")\n",
        "\n",
        "\n",
        "# 3.Set Operations:\n",
        "\n",
        "# Perform mathematical operations like union, intersection, and difference.\n",
        "\n",
        "a = {1, 2, 3}\n",
        "b = {2, 3, 4}\n",
        "print(a | b)  # Union: {1, 2, 3, 4}\n",
        "print(a & b)  # Intersection: {2, 3}\n",
        "\n",
        "# 4.Unordered Collections:\n",
        "# When the order of elements is irrelevant, sets provide simplicity and speed.\n",
        "\n",
        "# 5.Data Cleanup:\n",
        "# Useful in cleaning up data by removing redundant entries.\n",
        "\n",
        "# 6.Mutability:\n",
        "# While sets themselves are mutable, Python provides frozenset for immutable sets."
      ],
      "metadata": {
        "colab": {
          "base_uri": "https://localhost:8080/"
        },
        "id": "G_VVPfBYM2B9",
        "outputId": "8afae309-f67b-4209-a495-5adaef885f66"
      },
      "execution_count": 2,
      "outputs": [
        {
          "output_type": "stream",
          "name": "stdout",
          "text": [
            "Access granted.\n",
            "{1, 2, 3, 4}\n",
            "{2, 3}\n"
          ]
        }
      ]
    },
    {
      "cell_type": "code",
      "source": [],
      "metadata": {
        "id": "INntVDDKN_MK"
      },
      "execution_count": null,
      "outputs": []
    }
  ]
}