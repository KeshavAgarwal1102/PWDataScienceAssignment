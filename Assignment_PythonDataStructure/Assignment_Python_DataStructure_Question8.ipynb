{
  "nbformat": 4,
  "nbformat_minor": 0,
  "metadata": {
    "colab": {
      "provenance": []
    },
    "kernelspec": {
      "name": "python3",
      "display_name": "Python 3"
    },
    "language_info": {
      "name": "python"
    }
  },
  "cells": [
    {
      "cell_type": "code",
      "execution_count": null,
      "metadata": {
        "id": "B4Hi1U2evFn1"
      },
      "outputs": [],
      "source": [
        "# In Python, dictionary keys must be immutable. This is crucial for ensuring that dictionary keys remain consistent\n",
        "#  throughout the program’s execution. Let's explore why this property is important, as well as provide some examples.\n",
        "\n",
        "\n",
        "# Hashing Requirement:\n",
        "\n",
        "# Dictionaries use hash tables for fast lookups.\n",
        "# A key's hash is computed for efficient access.\n",
        "# Mutable keys (like lists) can change, altering their hash.\n",
        "# If the hash changes, the dictionary can no longer track the key properly.\n",
        "# Data Integrity:\n",
        "\n",
        "# Immutable keys can't be modified after insertion.\n",
        "# This ensures the key always points to the correct value, preserving data integrity.\n",
        "\n",
        "# Dictionary with strings as keys\n",
        "person = {\"name\": \"Alice\", \"age\": 30}\n",
        "\n",
        "# Accessing the value using the key\n",
        "print(person[\"name\"])  # Output: Alice\n",
        "\n",
        "\n",
        "# Dictionary with tuples as keys\n",
        "coordinates = {(0, 0): \"Origin\", (1, 2): \"Point A\"}\n",
        "\n",
        "# Accessing the value using a tuple key\n",
        "print(coordinates[(1, 2)])  # Output: Point A\n",
        "\n",
        "\n",
        "\n",
        "\n",
        "\n",
        "\n",
        "\n"
      ]
    }
  ]
}