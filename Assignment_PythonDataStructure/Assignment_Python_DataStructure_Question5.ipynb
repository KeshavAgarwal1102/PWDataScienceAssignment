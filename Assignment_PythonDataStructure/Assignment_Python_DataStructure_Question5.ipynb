{
  "nbformat": 4,
  "nbformat_minor": 0,
  "metadata": {
    "colab": {
      "provenance": []
    },
    "kernelspec": {
      "name": "python3",
      "display_name": "Python 3"
    },
    "language_info": {
      "name": "python"
    }
  },
  "cells": [
    {
      "cell_type": "code",
      "execution_count": 1,
      "metadata": {
        "colab": {
          "base_uri": "https://localhost:8080/"
        },
        "id": "02aKfH0DG0tc",
        "outputId": "28310575-ea91-4d7b-a116-41d757d9ba5d"
      },
      "outputs": [
        {
          "output_type": "stream",
          "name": "stdout",
          "text": [
            "{1, 3, 4}\n",
            "{1, 2, 3}\n",
            "{1, 2, 3, 4, 5}\n",
            "Access granted!\n",
            "{1, 2, 3, 4, 5}\n",
            "{3}\n",
            "{1, 2}\n",
            "{1, 2, 4, 5}\n",
            "{1, 3, 4}\n"
          ]
        }
      ],
      "source": [
        "# 1. Unordered\n",
        "\n",
        "  # Sets do not maintain the order of elements. The order in which items are added is not necessarily the order in which they are stored or iterated.\n",
        "\n",
        "my_set = {3, 1, 4}\n",
        "print(my_set)  # Output: {1, 3, 4} (order may vary)\n",
        "\n",
        "\n",
        "\n",
        "# 2.Unique Elements\n",
        "\n",
        "# Sets automatically remove duplicate elements.\n",
        "\n",
        "my_set = {1, 2, 2, 3}\n",
        "print(my_set)  # Output: {1, 2, 3}\n",
        "\n",
        "numbers = [1, 2, 2, 3, 4, 4, 5]\n",
        "unique_numbers = set(numbers)\n",
        "print(unique_numbers)  # Output: {1, 2, 3, 4, 5}\n",
        "\n",
        "\n",
        "\n",
        "# 3. Set elements must be immutable (like numbers, strings, or tuples), though the set itself is mutable.\n",
        "\n",
        "my_set = {1, \"hello\", (2, 3)}\n",
        "# my_set.add([4, 5])  # Raises a TypeError because lists are mutable\n",
        "\n",
        "\n",
        "\n",
        "# 4. No Indexing or Slicing\n",
        "\n",
        "  # Since sets are unordered, you cannot access elements via indexing or slicing.\n",
        "\n",
        "my_set = {1, 2, 3}\n",
        "# print(my_set[0])  # Raises a TypeError\n",
        "\n",
        "\n",
        "# 5.Efficient Membership Testing\n",
        "# Checking if an item exists in a set is very fast, with average time complexity of O(1)\n",
        "\n",
        "allowed_users = {\"Alice\", \"Bob\", \"Charlie\"}\n",
        "if \"Bob\" in allowed_users:\n",
        "    print(\"Access granted!\")  # Output: Access granted!\n",
        "\n",
        "\n",
        "\n",
        "# 6. Set Operations\n",
        "# Sets support standard mathematical operations like union, intersection, difference, and symmetric difference.\n",
        "\n",
        "A = {1, 2, 3}\n",
        "B = {3, 4, 5}\n",
        "print(A | B)  # Union: {1, 2, 3, 4, 5}\n",
        "print(A & B)  # Intersection: {3}\n",
        "print(A - B)  # Difference: {1, 2}\n",
        "print(A ^ B)  # Symmetric Difference: {1, 2, 4, 5}\n",
        "\n",
        "\n",
        "# 7. Dynamic Modification\n",
        "# You can add or remove elements using methods like add(), remove(), and discard().\n",
        "\n",
        "my_set = {1, 2, 3}\n",
        "my_set.add(4)  # Adds 4 to the set\n",
        "my_set.discard(2)  # Removes 2 (no error if it doesn’t exist)\n",
        "print(my_set)  # Output: {1, 3, 4}\n"
      ]
    }
  ]
}