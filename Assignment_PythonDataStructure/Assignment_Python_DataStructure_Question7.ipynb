{
  "nbformat": 4,
  "nbformat_minor": 0,
  "metadata": {
    "colab": {
      "provenance": []
    },
    "kernelspec": {
      "name": "python3",
      "display_name": "Python 3"
    },
    "language_info": {
      "name": "python"
    }
  },
  "cells": [
    {
      "cell_type": "code",
      "execution_count": null,
      "metadata": {
        "id": "SEvfE5vYnumI"
      },
      "outputs": [],
      "source": [
        "# In Python, dictionaries are mutable data structures that store key-value pairs. Here's how you can add, modify, and delete items in a\n",
        "# dictionary:\n",
        "\n",
        "#Adding Item\n",
        "# Initial dictionary\n",
        "employee = {\"name\": \"John\", \"position\": \"Developer\"}\n",
        "\n",
        "# Adding a new key-value pair\n",
        "employee[\"salary\"] = 75000\n",
        "print(employee)\n",
        "# Output: {'name': 'John', 'position': 'Developer', 'salary': 75000}\n",
        "# Adding multiple items at once using update()\n",
        "employee.update({\"department\": \"IT\", \"location\": \"New York\"})\n",
        "print(employee)\n",
        "# Output: {'name': 'John', 'position': 'Developer', 'salary': 75000, 'department': 'IT', 'location': 'New York'}"
      ]
    },
    {
      "cell_type": "code",
      "source": [
        "# 2. Modifying Items\n",
        "# You can modify the value of an existing key by reassigning it.\n",
        "\n",
        "# Modifying a Single Key\n",
        "\n",
        "# Initial dictionary\n",
        "product = {\"name\": \"Laptop\", \"price\": 1000, \"stock\": 50}\n",
        "\n",
        "# Modifying the value of the 'price' key\n",
        "product[\"price\"] = 1200\n",
        "print(product)\n",
        "# Output: {'name': 'Laptop', 'price': 1200, 'stock': 50}\n",
        "\n",
        "# Modifying Multiple Keys\n",
        "\n",
        "# Modifying multiple key-value pairs using update()\n",
        "product.update({\"price\": 1100, \"stock\": 45})\n",
        "print(product)\n",
        "# Output: {'name': 'Laptop', 'price': 1100, 'stock': 45}\n"
      ],
      "metadata": {
        "id": "173z9t8MoMdJ"
      },
      "execution_count": null,
      "outputs": []
    },
    {
      "cell_type": "code",
      "source": [
        "# 3. Deleting Items\n",
        "# You can delete items using del, pop(), or popitem().\n",
        "\n",
        "# Using del to Remove a Specific Item\n",
        "\n",
        "# Initial dictionary\n",
        "user = {\"username\": \"keshav\", \"email\": \"keshav@gmail.com\", \"age\": 30}\n",
        "\n",
        "# Deleting the 'email' key\n",
        "del user[\"email\"]\n",
        "print(user)\n",
        "# Output: {'username': 'keshav', 'age': 30}\n",
        "\n",
        "# Example 2: Using pop() to Remove an Item and Get Its Value\n",
        "\n",
        "# Removing 'age' and getting its value\n",
        "removed_value = user.pop(\"age\")\n",
        "print(user)  # Output: {'username': 'keshav'}\n",
        "print(removed_value)  # Output: 30\n",
        "\n",
        "# Example 3: Using popitem() to Remove the Last Added Item\n",
        "\n",
        "# Dictionary with multiple items\n",
        "user = {\"username\": \"keshav\", \"email\": \"keshav@gmail.com\"}\n",
        "\n",
        "# Removing the last inserted item\n",
        "removed_item = user.popitem()\n",
        "print(user)  # Output: {'username': 'jdoe'}\n",
        "print(removed_item)  # Output: ('email', 'jdoe@example.com')"
      ],
      "metadata": {
        "id": "ulgpXtGstgfa"
      },
      "execution_count": null,
      "outputs": []
    }
  ]
}