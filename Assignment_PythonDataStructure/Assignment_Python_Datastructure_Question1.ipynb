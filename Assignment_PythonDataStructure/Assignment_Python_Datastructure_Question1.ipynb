{
  "nbformat": 4,
  "nbformat_minor": 0,
  "metadata": {
    "colab": {
      "provenance": []
    },
    "kernelspec": {
      "name": "python3",
      "display_name": "Python 3"
    },
    "language_info": {
      "name": "python"
    }
  },
  "cells": [
    {
      "cell_type": "code",
      "execution_count": 1,
      "metadata": {
        "colab": {
          "base_uri": "https://localhost:8080/"
        },
        "id": "CmQKD3XEZPwG",
        "outputId": "4c130cce-5010-4ca8-d4dc-1b1951ed44b1"
      },
      "outputs": [
        {
          "output_type": "stream",
          "name": "stdout",
          "text": [
            "Hello\n",
            "Hello\n",
            "World!\n",
            "World!\n",
            "Hello,\n",
            "Hlo ol!\n",
            "!dlroW ,olleH\n",
            "eoW\n"
          ]
        }
      ],
      "source": [
        "text = \"Hello, World!\"\n",
        "print(text[0:5])  # Output: \"Hello\"\n",
        "print(text[:5])   # Output: \"Hello\" (start defaults to 0)\n",
        "print(text[7:])   # Output: \"World!\" (slices from index 7 to the end)\n",
        "print(text[-6:])  # Output: \"World!\" (starts 6 characters from the end)\n",
        "print(text[:-7])  # Output: \"Hello,\" (excludes the last 7 characters)\n",
        "print(text[::2])  # Output: \"Hlo ol!\" (takes every 2nd character)\n",
        "print(text[::-1]) # Output: \"!dlroW ,olleH\" (reverses the string)\n",
        "print(text[1:10:3])  # Output: \"el \" (starts at index 1, takes every 3rd character until index 10)"
      ]
    },
    {
      "cell_type": "code",
      "source": [],
      "metadata": {
        "id": "byjFYAIAdBWY"
      },
      "execution_count": null,
      "outputs": []
    }
  ]
}