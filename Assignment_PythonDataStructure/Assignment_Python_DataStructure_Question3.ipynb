{
  "nbformat": 4,
  "nbformat_minor": 0,
  "metadata": {
    "colab": {
      "provenance": []
    },
    "kernelspec": {
      "name": "python3",
      "display_name": "Python 3"
    },
    "language_info": {
      "name": "python"
    }
  },
  "cells": [
    {
      "cell_type": "code",
      "execution_count": 1,
      "metadata": {
        "colab": {
          "base_uri": "https://localhost:8080/"
        },
        "id": "2XlNQ9JV_KSM",
        "outputId": "79c892f8-7cf9-41c5-96f0-1367069e994d"
      },
      "outputs": [
        {
          "output_type": "stream",
          "name": "stdout",
          "text": [
            "apple\n",
            "cherry\n",
            "cherry\n",
            "banana\n",
            "['banana', 'cherry']\n",
            "['apple', 'banana']\n"
          ]
        }
      ],
      "source": [
        "#Accessing the List\n",
        "\n",
        "#Access by Index\n",
        "fruits = ['apple', 'banana', 'cherry']\n",
        "print(fruits[0])  # Output: 'apple'\n",
        "print(fruits[2])  # Output: 'cherry'\n",
        "\n",
        "# Negative Indexing: Negative indices allow you to access elements from the end of the list\n",
        "print(fruits[-1])  # Output: 'cherry' (last element)\n",
        "print(fruits[-2])  # Output: 'banana'\n",
        "\n",
        "# Access a Slice: Use slicing to access a subset of the list.\n",
        "\n",
        "print(fruits[1:3])  # Output: ['banana', 'cherry']\n",
        "print(fruits[:2])   # Output: ['apple', 'banana']\n",
        "\n"
      ]
    },
    {
      "cell_type": "code",
      "source": [
        "# Modifying Elements in a List\n",
        "\n",
        "# Modify by Index:\n",
        "\n",
        "numbers = [10, 20, 30]\n",
        "numbers[1] = 50  # Change the second element\n",
        "print(numbers)  # Output: [10, 50, 30]\n",
        "\n",
        "# Modify a Slice: Replace multiple elements at once.\n",
        "\n",
        "numbers[0:2] = [100, 200]\n",
        "print(numbers)  # Output: [100, 200, 30]\n"
      ],
      "metadata": {
        "colab": {
          "base_uri": "https://localhost:8080/"
        },
        "id": "fNkSLW6K_1Pq",
        "outputId": "3db1da86-0558-49fb-e289-a64938d0ff7c"
      },
      "execution_count": 2,
      "outputs": [
        {
          "output_type": "stream",
          "name": "stdout",
          "text": [
            "[10, 50, 30]\n",
            "[100, 200, 30]\n"
          ]
        }
      ]
    },
    {
      "cell_type": "code",
      "source": [
        "#  Deleting Elements from a List\n",
        "\n",
        "# Using del: Removes an element by index or deletes a slice.\n",
        "\n",
        "\n",
        "letters = ['a', 'b', 'c', 'd']\n",
        "del letters[1]  # Deletes the second element\n",
        "print(letters)  # Output: ['a', 'c', 'd']\n",
        "\n",
        "del letters[1:3]  # Deletes a slice\n",
        "print(letters)  # Output: ['a']\n",
        "\n",
        "# Using remove(): Removes the first occurrence of a value.\n",
        "\n",
        "animals = ['cat', 'dog', 'bird']\n",
        "animals.remove('dog')\n",
        "print(animals)  # Output: ['cat', 'bird']\n",
        "\n",
        "# Using pop(): Removes and returns an element by index (default is the last element).\n",
        "\n",
        "\n",
        "colors = ['red', 'green', 'blue']\n",
        "last_color = colors.pop()  # Removes 'blue'\n",
        "print(colors)  # Output: ['red', 'green']\n",
        "print(last_color)  # Output: 'blue'\n",
        "\n",
        "# Clear All Elements: Use clear() to remove all elements from the list.\n",
        "\n",
        "\n",
        "numbers = [1, 2, 3]\n",
        "numbers.clear()\n",
        "print(numbers)  # Output: []"
      ],
      "metadata": {
        "colab": {
          "base_uri": "https://localhost:8080/"
        },
        "id": "2iNbNfpsAHrU",
        "outputId": "76387bda-e4b7-4f51-f7b9-ddca119b1447"
      },
      "execution_count": 3,
      "outputs": [
        {
          "output_type": "stream",
          "name": "stdout",
          "text": [
            "['a', 'c', 'd']\n",
            "['a']\n",
            "['cat', 'bird']\n",
            "['red', 'green']\n",
            "blue\n",
            "[]\n"
          ]
        }
      ]
    },
    {
      "cell_type": "code",
      "source": [],
      "metadata": {
        "id": "6dHXX_qCA8j4"
      },
      "execution_count": null,
      "outputs": []
    }
  ]
}