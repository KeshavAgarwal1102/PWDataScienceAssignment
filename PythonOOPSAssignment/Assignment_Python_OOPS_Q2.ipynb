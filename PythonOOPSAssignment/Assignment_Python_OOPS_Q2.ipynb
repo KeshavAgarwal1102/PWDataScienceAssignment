{
  "nbformat": 4,
  "nbformat_minor": 0,
  "metadata": {
    "colab": {
      "provenance": []
    },
    "kernelspec": {
      "name": "python3",
      "display_name": "Python 3"
    },
    "language_info": {
      "name": "python"
    }
  },
  "cells": [
    {
      "cell_type": "code",
      "execution_count": null,
      "metadata": {
        "id": "uHCWed-Z54OF"
      },
      "outputs": [],
      "source": [
        "class Car:\n",
        "    def __init__(self, make, model, year):\n",
        "        \"\"\"Initialize the Car object with make, model, and year.\"\"\"\n",
        "        self.make = make\n",
        "        self.model = model\n",
        "        self.year = year\n",
        "\n",
        "    def display_info(self):\n",
        "        \"\"\"Display the car's information.\"\"\"\n",
        "        return f\"{self.year} {self.make} {self.model}\"\n",
        "\n",
        "# Example usage:\n",
        "my_car = Car(\"Toyota\", \"Corolla\", 2022)\n",
        "print(my_car.display_info())"
      ]
    }
  ]
}