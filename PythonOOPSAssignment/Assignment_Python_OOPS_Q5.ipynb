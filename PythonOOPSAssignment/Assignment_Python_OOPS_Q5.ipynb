{
  "nbformat": 4,
  "nbformat_minor": 0,
  "metadata": {
    "colab": {
      "provenance": []
    },
    "kernelspec": {
      "name": "python3",
      "display_name": "Python 3"
    },
    "language_info": {
      "name": "python"
    }
  },
  "cells": [
    {
      "cell_type": "code",
      "execution_count": null,
      "metadata": {
        "id": "aWsG4615C4GX"
      },
      "outputs": [],
      "source": [
        "# In Python, access modifiers are used to define the accessibility of class attributes and methods. Python provides three levels of access control: public, protected, and private. These are not enforced strictly as in some other languages, but they are implemented through naming conventions.\n",
        "\n",
        "# 1. Public Access Modifier\n",
        "# Denotation: No leading underscores.\n",
        "# Accessibility: Public attributes and methods are accessible from anywhere (inside and outside the class).\n",
        "# Example:\n",
        "\n",
        "class Example:\n",
        "    def __init__(self):\n",
        "        self.public_attr = \"I am public\"\n",
        "\n",
        "    def public_method(self):\n",
        "        return \"Public method\"\n",
        "\n",
        "obj = Example()\n",
        "print(obj.public_attr)        # Accessible\n",
        "print(obj.public_method())    # Accessible\n"
      ]
    },
    {
      "cell_type": "code",
      "source": [
        "# Protected Access Modifier\n",
        "# Denotation: A single leading underscore (_).\n",
        "# Accessibility: Protected attributes and methods are accessible within the class and subclasses. By convention, they are not meant to be accessed directly from outside the class, but this is not strictly enforced.\n",
        "# Example:\n",
        "\n",
        "class Example:\n",
        "    def __init__(self):\n",
        "        self._protected_attr = \"I am protected\"\n",
        "\n",
        "    def _protected_method(self):\n",
        "        return \"Protected method\"\n",
        "\n",
        "class SubExample(Example):\n",
        "    def access_protected(self):\n",
        "        return self._protected_attr\n",
        "\n",
        "obj = SubExample()\n",
        "print(obj.access_protected())  # Accessible from a subclass\n",
        "print(obj._protected_attr)     # Accessible, but discouraged\n"
      ],
      "metadata": {
        "id": "-AzErDBVC7WB"
      },
      "execution_count": null,
      "outputs": []
    },
    {
      "cell_type": "code",
      "source": [
        "# Private Access Modifier\n",
        "# Denotation: Two leading underscores (__).\n",
        "# Accessibility: Private attributes and methods are accessible only within the class in which they are defined. Python uses name mangling to make them harder to access from outside.\n",
        "# Example:\n",
        "\n",
        "class Example:\n",
        "    def __init__(self):\n",
        "        self.__private_attr = \"I am private\"\n",
        "\n",
        "    def __private_method(self):\n",
        "        return \"Private method\"\n",
        "\n",
        "    def access_private(self):\n",
        "        return self.__private_attr\n",
        "\n",
        "obj = Example()\n",
        "print(obj.access_private())    # Accessible via a public method\n",
        "# print(obj.__private_attr)    # AttributeError\n",
        "# print(obj.__private_method()) # AttributeError"
      ],
      "metadata": {
        "id": "ANvYh8pGDLCD"
      },
      "execution_count": null,
      "outputs": []
    }
  ]
}