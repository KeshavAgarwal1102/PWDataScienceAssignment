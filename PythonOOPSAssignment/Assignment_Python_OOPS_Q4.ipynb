{
  "nbformat": 4,
  "nbformat_minor": 0,
  "metadata": {
    "colab": {
      "provenance": []
    },
    "kernelspec": {
      "name": "python3",
      "display_name": "Python 3"
    },
    "language_info": {
      "name": "python"
    }
  },
  "cells": [
    {
      "cell_type": "code",
      "execution_count": 4,
      "metadata": {
        "id": "gsgCAb-ZBEz-"
      },
      "outputs": [],
      "source": [
        "# In Python, method overloading (defining multiple methods with the same name but different parameter lists) is not supported directly as in some other languages like Java or C++.\n",
        "# Instead, Python achieves similar functionality using default arguments,variable-length arguments (*args and **kwargs), and type checks within a single method."
      ]
    },
    {
      "cell_type": "code",
      "source": [
        "class Calculator:\n",
        "    def add(self, *args):\n",
        "        \"\"\"Simulate method overloading using variable-length arguments.\"\"\"\n",
        "        if len(args) == 2:\n",
        "            return args[0] + args[1]\n",
        "        elif len(args) == 3:\n",
        "            return args[0] + args[1] + args[2]\n",
        "        else:\n",
        "            raise ValueError(\"This method supports only 2 or 3 arguments.\")\n",
        "\n",
        "\n",
        "# Example usage:\n",
        "calc = Calculator()\n",
        "\n",
        "print(calc.add(5, 10))       # Adds two numbers\n",
        "print(calc.add(1, 2, 3))     # Adds three numbers\n",
        "# print(calc.add(4))          # Raises ValueError\n",
        "\n",
        "# *args: Allows the method to accept a variable number of arguments.\n",
        "# Logic Inside the Method: Determines the behavior based on the number or type of arguments passed.\n",
        "# Flexibility: You can add more conditions to handle various cases.\n",
        "\n",
        "# Python does not allow multiple methods with the same name in a class. Defining a method with an existing name will overwrite the previous definition.\n",
        "# Instead of strict overloading, you use a single flexible method to handle different scenario\n"
      ],
      "metadata": {
        "colab": {
          "base_uri": "https://localhost:8080/"
        },
        "id": "hwbZybhfBjvt",
        "outputId": "b60351db-d6c8-48a4-8e1d-cb6bd8d1ac18"
      },
      "execution_count": 5,
      "outputs": [
        {
          "output_type": "stream",
          "name": "stdout",
          "text": [
            "15\n",
            "6\n"
          ]
        }
      ]
    },
    {
      "cell_type": "code",
      "source": [],
      "metadata": {
        "id": "1NSnIba6B13K"
      },
      "execution_count": null,
      "outputs": []
    },
    {
      "cell_type": "code",
      "source": [
        "\n",
        "\n"
      ],
      "metadata": {
        "id": "oHGyO0qrBGfA"
      },
      "execution_count": null,
      "outputs": []
    }
  ]
}