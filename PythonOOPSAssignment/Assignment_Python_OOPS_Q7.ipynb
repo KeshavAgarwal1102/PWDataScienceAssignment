{
  "nbformat": 4,
  "nbformat_minor": 0,
  "metadata": {
    "colab": {
      "provenance": []
    },
    "kernelspec": {
      "name": "python3",
      "display_name": "Python 3"
    },
    "language_info": {
      "name": "python"
    }
  },
  "cells": [
    {
      "cell_type": "code",
      "execution_count": null,
      "metadata": {
        "id": "5Vumy8SdGFFO"
      },
      "outputs": [],
      "source": [
        "# The Method Resolution Order (MRO) is the order in which Python searches for a method or attribute in a class hierarchy.\n",
        "# When a method is called on an object, Python uses the MRO to determine which class's method is invoked.\n",
        "\n",
        "# MRO is particularly important in cases of multiple inheritance, where a class can inherit from multiple parent classes.\n",
        "\n",
        "# How to Retrieve MRO Programmatically\n",
        "# You can retrieve the MRO of a class using:\n",
        "\n",
        "# ClassName.mro():\n",
        "# Returns a list of classes in the order they will be checked.\n",
        "# help(ClassName):\n",
        "# Displays the MRO along with other class details.\n",
        "# __mro__ Attribute:\n",
        "# Access the MRO directly as a tuple."
      ]
    },
    {
      "cell_type": "code",
      "source": [
        "\n",
        "# Example\n",
        "\n",
        "class A:\n",
        "    def greet(self):\n",
        "        return \"Hello from A\"\n",
        "\n",
        "class B(A):\n",
        "    def greet(self):\n",
        "        return \"Hello from B\"\n",
        "\n",
        "class C(A):\n",
        "    def greet(self):\n",
        "        return \"Hello from C\"\n",
        "\n",
        "class D(B, C):\n",
        "    pass\n",
        "\n",
        "# Retrieve MRO programmatically:\n",
        "print(D.mro())       # Using mro() method\n",
        "print(D.__mro__)     # Accessing __mro__ attribute\n",
        "help(D)              # Using help()\n",
        "\n",
        "# Example of method resolution:\n",
        "d = D()\n",
        "print(d.greet())     # Output: Hello from B (based on MRO)"
      ],
      "metadata": {
        "colab": {
          "base_uri": "https://localhost:8080/"
        },
        "id": "lU2an3nVPSuq",
        "outputId": "e895e5f9-17f6-48fd-81f4-daf338e99e3a"
      },
      "execution_count": 2,
      "outputs": [
        {
          "output_type": "stream",
          "name": "stdout",
          "text": [
            "[<class '__main__.D'>, <class '__main__.B'>, <class '__main__.C'>, <class '__main__.A'>, <class 'object'>]\n",
            "(<class '__main__.D'>, <class '__main__.B'>, <class '__main__.C'>, <class '__main__.A'>, <class 'object'>)\n",
            "Help on class D in module __main__:\n",
            "\n",
            "class D(B, C)\n",
            " |  Method resolution order:\n",
            " |      D\n",
            " |      B\n",
            " |      C\n",
            " |      A\n",
            " |      builtins.object\n",
            " |  \n",
            " |  Methods inherited from B:\n",
            " |  \n",
            " |  greet(self)\n",
            " |  \n",
            " |  ----------------------------------------------------------------------\n",
            " |  Data descriptors inherited from A:\n",
            " |  \n",
            " |  __dict__\n",
            " |      dictionary for instance variables (if defined)\n",
            " |  \n",
            " |  __weakref__\n",
            " |      list of weak references to the object (if defined)\n",
            "\n",
            "Hello from B\n"
          ]
        }
      ]
    },
    {
      "cell_type": "code",
      "source": [],
      "metadata": {
        "id": "j2dYM-YCPmR_"
      },
      "execution_count": null,
      "outputs": []
    }
  ]
}