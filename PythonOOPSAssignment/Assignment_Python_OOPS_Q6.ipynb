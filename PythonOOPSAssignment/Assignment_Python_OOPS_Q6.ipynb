{
  "nbformat": 4,
  "nbformat_minor": 0,
  "metadata": {
    "colab": {
      "provenance": []
    },
    "kernelspec": {
      "name": "python3",
      "display_name": "Python 3"
    },
    "language_info": {
      "name": "python"
    }
  },
  "cells": [
    {
      "cell_type": "code",
      "execution_count": 2,
      "metadata": {
        "colab": {
          "base_uri": "https://localhost:8080/"
        },
        "id": "USqIH_DuDv-i",
        "outputId": "ca1f40f0-4362-4fb8-b9a4-a985c2e8d44a"
      },
      "outputs": [
        {
          "output_type": "stream",
          "name": "stdout",
          "text": [
            "Hello from Parent\n"
          ]
        }
      ],
      "source": [
        "# Types of Inheritance in Python\n",
        "\n",
        "# Single Inheritance\n",
        "\n",
        "# A class inherits from one parent class.\n",
        "# Example:\n",
        "\n",
        "\n",
        "class Parent:\n",
        "    def greet(self):\n",
        "        return \"Hello from Parent\"\n",
        "\n",
        "class Child(Parent):\n",
        "    pass\n",
        "\n",
        "obj = Child()\n",
        "print(obj.greet())  # Output: Hello from Parent\n"
      ]
    },
    {
      "cell_type": "code",
      "source": [
        "# Multiple Inheritance\n",
        "\n",
        "# A class inherits from multiple parent classes.\n",
        "Example:\n",
        "\n",
        "class Parent1:\n",
        "    def greet(self):\n",
        "        return \"Hello from Parent1\"\n",
        "\n",
        "class Parent2:\n",
        "    def greet_again(self):\n",
        "        return \"Hello from Parent2\"\n",
        "\n",
        "class Child(Parent1, Parent2):\n",
        "    pass\n",
        "\n",
        "obj = Child()\n",
        "print(obj.greet())         # Output: Hello from Parent1\n",
        "print(obj.greet_again())   # Output: Hello from Parent2\n"
      ],
      "metadata": {
        "id": "rSZPNsmDDyyL"
      },
      "execution_count": null,
      "outputs": []
    },
    {
      "cell_type": "code",
      "source": [
        "# Multilevel Inheritance\n",
        "\n",
        "# A class inherits from a class, which itself inherits from another class.\n",
        "# Example:\n",
        "\n",
        "class Grandparent:\n",
        "    def greet(self):\n",
        "        return \"Hello from Grandparent\"\n",
        "\n",
        "class Parent(Grandparent):\n",
        "    pass\n",
        "\n",
        "class Child(Parent):\n",
        "    pass\n",
        "\n",
        "obj = Child()\n",
        "print(obj.greet())  # Output: Hello from Grandparent\n"
      ],
      "metadata": {
        "id": "EuvtKzVREKm0"
      },
      "execution_count": null,
      "outputs": []
    },
    {
      "cell_type": "code",
      "source": [
        "# Hierarchical Inheritance\n",
        "\n",
        "# Multiple child classes inherit from a single parent class.\n",
        "# Example:\n",
        "\n",
        "class Parent:\n",
        "    def greet(self):\n",
        "        return \"Hello from Parent\"\n",
        "\n",
        "class Child1(Parent):\n",
        "    pass\n",
        "\n",
        "class Child2(Parent):\n",
        "    pass\n",
        "\n",
        "obj1 = Child1()\n",
        "obj2 = Child2()\n",
        "print(obj1.greet())  # Output: Hello from Parent\n",
        "print(obj2.greet())  # Output: Hello from Parent"
      ],
      "metadata": {
        "id": "gJhrt4HnER7f"
      },
      "execution_count": null,
      "outputs": []
    },
    {
      "cell_type": "code",
      "source": [
        "# Hybrid Inheritance\n",
        "\n",
        "# A combination of two or more types of inheritance.\n",
        "# Example:\n",
        "\n",
        "class Parent:\n",
        "    def greet(self):\n",
        "        return \"Hello from Parent\"\n",
        "\n",
        "class Child1(Parent):\n",
        "    pass\n",
        "\n",
        "class Child2(Parent):\n",
        "    pass\n",
        "\n",
        "class Grandchild(Child1, Child2):\n",
        "    pass\n",
        "\n",
        "obj = Grandchild()\n",
        "print(obj.greet())  # Output: Hello from Parent"
      ],
      "metadata": {
        "id": "8uZXPIYjEeP7"
      },
      "execution_count": null,
      "outputs": []
    }
  ]
}