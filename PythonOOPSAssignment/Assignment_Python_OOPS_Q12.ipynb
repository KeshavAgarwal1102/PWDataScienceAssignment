{
  "nbformat": 4,
  "nbformat_minor": 0,
  "metadata": {
    "colab": {
      "provenance": []
    },
    "kernelspec": {
      "name": "python3",
      "display_name": "Python 3"
    },
    "language_info": {
      "name": "python"
    }
  },
  "cells": [
    {
      "cell_type": "code",
      "execution_count": null,
      "metadata": {
        "id": "Ru3vlN9jcWgQ"
      },
      "outputs": [],
      "source": [
        "# To create a decorator that measures and prints the execution time of a function, we can use Python's built-in time module. A decorator is a function that takes another function as input and returns a new function that can extend or modify the behavior of the original function.\n",
        "\n",
        "# Here’s how to implement a decorator that prints the execution time of a function:\n",
        "\n",
        "# Code:\n",
        "\n",
        "import time\n",
        "\n",
        "# Decorator to measure execution time\n",
        "def measure_time(func):\n",
        "    def wrapper(*args, **kwargs):\n",
        "        start_time = time.time()  # Record the start time\n",
        "        result = func(*args, **kwargs)  # Call the original function\n",
        "        end_time = time.time()  # Record the end time\n",
        "        execution_time = end_time - start_time  # Calculate the time difference\n",
        "        print(f\"Execution time of {func.__name__}: {execution_time:.4f} seconds\")\n",
        "        return result\n",
        "    return wrapper\n",
        "\n",
        "# Example function to demonstrate the decorator\n",
        "@measure_time\n",
        "def some_function():\n",
        "    # Simulate a time-consuming task (e.g., sleeping for 2 seconds)\n",
        "    time.sleep(2)\n",
        "    print(\"Function execution completed.\")\n",
        "\n",
        "# Call the function\n",
        "some_function()"
      ]
    }
  ]
}