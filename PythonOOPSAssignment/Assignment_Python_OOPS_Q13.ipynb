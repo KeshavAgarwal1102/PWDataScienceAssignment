{
  "nbformat": 4,
  "nbformat_minor": 0,
  "metadata": {
    "colab": {
      "provenance": []
    },
    "kernelspec": {
      "name": "python3",
      "display_name": "Python 3"
    },
    "language_info": {
      "name": "python"
    }
  },
  "cells": [
    {
      "cell_type": "code",
      "execution_count": null,
      "metadata": {
        "id": "qd-c3rHccy-T"
      },
      "outputs": [],
      "source": [
        "# The Diamond Problem in Multiple Inheritance\n",
        "# The Diamond Problem occurs in object-oriented programming when a class inherits from two classes that both inherit from a common superclass. The issue arises when both parent classes have methods or attributes with the same name, causing ambiguity when the child class tries to access them.\n",
        "\n",
        "# Here’s a simple illustration of the problem:\n",
        "\n",
        "# css\n",
        "# Copy code\n",
        "#        A\n",
        "#       / \\\n",
        "#      B   C\n",
        "#       \\ /\n",
        "#        D\n",
        "# A is the root class.\n",
        "# B and C are subclasses of A.\n",
        "# D inherits from both B and C.\n",
        "# In this case, if B and C override a method or attribute from A, and D tries to access it, Python has to decide which method or attribute to call from B or C. This creates ambiguity because D can potentially access two versions of the same method (one from B and one from C), and it’s unclear which one should be used.\n",
        "\n",
        "# How Python Resolves the Diamond Problem: Method Resolution Order (MRO)\n",
        "# Python resolves the Diamond Problem using a mechanism called Method Resolution Order (MRO). The MRO defines the order in which Python looks for methods and attributes when they are accessed on an object.\n",
        "\n",
        "# Python uses an algorithm called C3 Linearization to determine the MRO for a class, ensuring a consistent order that avoids ambiguity. This algorithm takes into account the inheritance hierarchy and ensures that each class is considered once in the method resolution orde"
      ]
    },
    {
      "cell_type": "code",
      "source": [
        "class A:\n",
        "    def say_hello(self):\n",
        "        print(\"Hello from A\")\n",
        "\n",
        "class B(A):\n",
        "    def say_hello(self):\n",
        "        print(\"Hello from B\")\n",
        "\n",
        "class C(A):\n",
        "    def say_hello(self):\n",
        "        print(\"Hello from C\")\n",
        "\n",
        "class D(B, C):\n",
        "    pass\n",
        "\n",
        "# Create an instance of D\n",
        "d = D()\n",
        "d.say_hello()  # Which method is called?\n"
      ],
      "metadata": {
        "id": "hFXQ6FQzdF2u"
      },
      "execution_count": null,
      "outputs": []
    }
  ]
}