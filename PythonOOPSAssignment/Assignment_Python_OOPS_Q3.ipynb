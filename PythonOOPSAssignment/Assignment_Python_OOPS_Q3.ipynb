{
  "nbformat": 4,
  "nbformat_minor": 0,
  "metadata": {
    "colab": {
      "provenance": []
    },
    "kernelspec": {
      "name": "python3",
      "display_name": "Python 3"
    },
    "language_info": {
      "name": "python"
    }
  },
  "cells": [
    {
      "cell_type": "code",
      "execution_count": null,
      "metadata": {
        "id": "KJy_FK2m8NPf"
      },
      "outputs": [],
      "source": [
        "# Instance Methods:\n",
        "# Operate on an instance of a class.\n",
        "# Can access and modify instance-specific data (attributes).\n",
        "# Require an instance of the class to be called and are defined using def method_name(self, ...).\n",
        "\n",
        "# Class Methods:\n",
        "# Operate on the class itself rather than any specific instance.\n",
        "# Cannot access or modify instance-specific data but can modify class-level data.\n",
        "# Are defined using @classmethod and take cls as their first parameter"
      ]
    },
    {
      "cell_type": "code",
      "source": [
        "class Car:\n",
        "    car_count = 0  # Class-level attribute\n",
        "\n",
        "    def __init__(self, make, model, year):\n",
        "        \"\"\"Initialize the Car object with make, model, and year.\"\"\"\n",
        "        self.make = make\n",
        "        self.model = model\n",
        "        self.year = year\n",
        "        Car.car_count += 1  # Increment class-level counter\n",
        "\n",
        "    def display_info(self):\n",
        "        \"\"\"Instance method: Display the car's information.\"\"\"\n",
        "        return f\"{self.year} {self.make} {self.model}\"\n",
        "\n",
        "    @classmethod\n",
        "    def total_cars(cls):\n",
        "        \"\"\"Class method: Return the total number of Car instances.\"\"\"\n",
        "        return f\"Total cars created: {cls.car_count}\"\n",
        "\n",
        "\n",
        "# Example usage:\n",
        "car1 = Car(\"Toyota\", \"Corolla\", 2022)\n",
        "car2 = Car(\"Honda\", \"Civic\", 2023)\n",
        "\n",
        "print(car1.display_info())  # Instance method\n",
        "print(Car.total_cars())     # Class method\n",
        "\n",
        "\n",
        "\n",
        "# display_info is an instance method that operates on individual Car objects and uses self to access attributes.\n",
        "# total_cars is a class method that uses cls to operate on class-level data (car_count). It doesn't require an instance to be called and is invoked on the class itself."
      ],
      "metadata": {
        "id": "wxJBX2-M8jlZ"
      },
      "execution_count": null,
      "outputs": []
    }
  ]
}