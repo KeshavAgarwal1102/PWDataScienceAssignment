{
  "nbformat": 4,
  "nbformat_minor": 0,
  "metadata": {
    "colab": {
      "provenance": []
    },
    "kernelspec": {
      "name": "python3",
      "display_name": "Python 3"
    },
    "language_info": {
      "name": "python"
    }
  },
  "cells": [
    {
      "cell_type": "code",
      "execution_count": null,
      "metadata": {
        "id": "ROvjpD-eXa6S"
      },
      "outputs": [],
      "source": [
        "# Polymorphism is a concept in object-oriented programming where objects of different classes can be treated as objects of a common superclass.\n",
        "#  In Python, we can demonstrate polymorphism by creating a base class Shape and then subclassing it with specific shape classes, such as Circle and Rectangle.\n",
        "#   Each subclass will implement a method to calculate its own area. The polymorphism is demonstrated when the function accepts objects of different classes (e.g., Circle, Rectangle)\n",
        "#    and calls the area() method on them, regardless of their specific types."
      ]
    },
    {
      "cell_type": "code",
      "source": [
        "# Base class\n",
        "class Shape:\n",
        "    def area(self):\n",
        "        pass  # This will be overridden in subclasses\n",
        "\n",
        "# Derived class for Circle\n",
        "class Circle(Shape):\n",
        "    def __init__(self, radius):\n",
        "        self.radius = radius\n",
        "\n",
        "    def area(self):\n",
        "        return 3.14 * self.radius * self.radius\n",
        "\n",
        "# Derived class for Rectangle\n",
        "class Rectangle(Shape):\n",
        "    def __init__(self, width, height):\n",
        "        self.width = width\n",
        "        self.height = height\n",
        "\n",
        "    def area(self):\n",
        "        return self.width * self.height\n",
        "\n",
        "# Function to print area\n",
        "def print_area(shape):\n",
        "    print(\"Area:\", shape.area())\n",
        "\n",
        "# Creating instances of Circle and Rectangle\n",
        "circle = Circle(5)\n",
        "rectangle = Rectangle(4, 6)\n",
        "\n",
        "# Demonstrating polymorphism\n",
        "print_area(circle)      # Prints area of circle\n",
        "print_area(rectangle)   # Prints area of rectangle\n"
      ],
      "metadata": {
        "id": "muaBB8sdXowt"
      },
      "execution_count": null,
      "outputs": []
    }
  ]
}