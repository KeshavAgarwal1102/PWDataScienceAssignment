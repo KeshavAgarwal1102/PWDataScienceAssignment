{
  "nbformat": 4,
  "nbformat_minor": 0,
  "metadata": {
    "colab": {
      "provenance": []
    },
    "kernelspec": {
      "name": "python3",
      "display_name": "Python 3"
    },
    "language_info": {
      "name": "python"
    }
  },
  "cells": [
    {
      "cell_type": "code",
      "execution_count": 1,
      "metadata": {
        "colab": {
          "base_uri": "https://localhost:8080/"
        },
        "id": "evbPRAYrTicP",
        "outputId": "bfc6281b-a93a-41f0-d676-fcda8a38cf80"
      },
      "outputs": [
        {
          "output_type": "stream",
          "name": "stdout",
          "text": [
            "Circle with radius 5: Area = 78.53981633974483\n",
            "Rectangle with width 4 and height 6: Area = 24\n",
            "Circle with radius 3: Area = 28.274333882308138\n"
          ]
        }
      ],
      "source": [
        "from abc import ABC, abstractmethod\n",
        "import math\n",
        "\n",
        "class Shape(ABC):\n",
        "    @abstractmethod\n",
        "    def area(self):\n",
        "        \"\"\"Calculate the area of the shape.\"\"\"\n",
        "        pass\n",
        "\n",
        "class Circle(Shape):\n",
        "    def __init__(self, radius):\n",
        "        self.radius = radius\n",
        "\n",
        "    def area(self):\n",
        "        \"\"\"Calculate the area of the circle.\"\"\"\n",
        "        return math.pi * (self.radius ** 2)\n",
        "\n",
        "    def __str__(self):\n",
        "        return f\"Circle with radius {self.radius}\"\n",
        "\n",
        "class Rectangle(Shape):\n",
        "    def __init__(self, width, height):\n",
        "        self.width = width\n",
        "        self.height = height\n",
        "\n",
        "    def area(self):\n",
        "        \"\"\"Calculate the area of the rectangle.\"\"\"\n",
        "        return self.width * self.height\n",
        "\n",
        "    def __str__(self):\n",
        "        return f\"Rectangle with width {self.width} and height {self.height}\"\n",
        "\n",
        "# Example usage:\n",
        "shapes = [\n",
        "    Circle(5),\n",
        "    Rectangle(4, 6),\n",
        "    Circle(3)\n",
        "]\n",
        "\n",
        "for shape in shapes:\n",
        "    print(f\"{shape}: Area = {shape.area()}\")"
      ]
    },
    {
      "cell_type": "code",
      "source": [],
      "metadata": {
        "id": "vYTmEpmsTvXI"
      },
      "execution_count": null,
      "outputs": []
    }
  ]
}