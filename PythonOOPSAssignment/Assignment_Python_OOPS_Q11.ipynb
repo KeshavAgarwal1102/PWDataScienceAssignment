{
  "nbformat": 4,
  "nbformat_minor": 0,
  "metadata": {
    "colab": {
      "provenance": []
    },
    "kernelspec": {
      "name": "python3",
      "display_name": "Python 3"
    },
    "language_info": {
      "name": "python"
    }
  },
  "cells": [
    {
      "cell_type": "code",
      "execution_count": null,
      "metadata": {
        "id": "5lZDjmYlbUc7"
      },
      "outputs": [],
      "source": [
        "# In Python, the __str__ and __add__ magic methods are used to define custom behavior for string representation and addition operations, respectively.\n",
        "\n",
        "# __str__: This method allows you to define how an object should be represented as a string when you call str() on the object or when you print the object. It returns a human-readable string that describes the object.\n",
        "\n",
        "# __add__: This method allows you to define how objects of a class should behave when using the + operator. It is used for overloading the addition operator to perform custom operations.\n",
        "\n",
        "# Example: Creating a class with overridden __str__ and __add__ methods\n",
        "\n",
        "class Point:\n",
        "    def __init__(self, x, y):\n",
        "        self.x = x\n",
        "        self.y = y\n",
        "\n",
        "    # Overriding __str__ to provide a custom string representation of the object\n",
        "    def __str__(self):\n",
        "        return f\"Point({self.x}, {self.y})\"\n",
        "\n",
        "    # Overriding __add__ to define addition of two Point objects\n",
        "    def __add__(self, other):\n",
        "        if isinstance(other, Point):\n",
        "            # Adding the corresponding coordinates of two Point objects\n",
        "            return Point(self.x + other.x, self.y + other.y)\n",
        "        return NotImplemented  # Return NotImplemented if the other object is not a Point\n",
        "\n",
        "# Creating Point objects\n",
        "p1 = Point(3, 4)\n",
        "p2 = Point(1, 2)\n",
        "\n",
        "# Using __str__ to print the Point object\n",
        "print(p1)  # Output: Point(3, 4)\n",
        "\n",
        "# Using __add__ to add two Point objects\n",
        "p3 = p1 + p2\n",
        "print(p3)  #"
      ]
    }
  ]
}