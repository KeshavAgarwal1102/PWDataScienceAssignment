{
 "cells": [
  {
   "cell_type": "code",
   "execution_count": null,
   "id": "8dc2f211-9c8b-4d1b-9b4e-7d00a6fe0f96",
   "metadata": {},
   "outputs": [],
   "source": [
    "def handle_index_and_key_error():\n",
    "    # Example list and dictionary\n",
    "    sample_list = [1, 2, 3]\n",
    "    sample_dict = {\"a\": 1, \"b\": 2, \"c\": 3}\n",
    "\n",
    "    try:\n",
    "        # Trying to access an invalid index in the list\n",
    "        index = 5\n",
    "        print(f\"Accessing list at index {index}: {sample_list[index]}\")\n",
    "\n",
    "        # Trying to access a non-existent key in the dictionary\n",
    "        key = \"d\"\n",
    "        print(f\"Accessing dictionary with key '{key}': {sample_dict[key]}\")\n",
    "\n",
    "    except IndexError as ie:\n",
    "        print(f\"IndexError: {ie} - The index is out of range in the list.\")\n",
    "\n",
    "    except KeyError as ke:\n",
    "        print(f\"KeyError: {ke} - The key does not exist in the dictionary.\")\n",
    "\n",
    "if __name__ == \"__main__\":\n",
    "    handle_index_and_key_error()\n"
   ]
  }
 ],
 "metadata": {
  "kernelspec": {
   "display_name": "Python [conda env:base] *",
   "language": "python",
   "name": "conda-base-py"
  },
  "language_info": {
   "codemirror_mode": {
    "name": "ipython",
    "version": 3
   },
   "file_extension": ".py",
   "mimetype": "text/x-python",
   "name": "python",
   "nbconvert_exporter": "python",
   "pygments_lexer": "ipython3",
   "version": "3.12.7"
  }
 },
 "nbformat": 4,
 "nbformat_minor": 5
}
