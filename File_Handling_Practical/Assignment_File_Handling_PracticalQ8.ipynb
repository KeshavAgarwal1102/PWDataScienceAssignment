{
 "cells": [
  {
   "cell_type": "code",
   "execution_count": null,
   "id": "18a055f6-cb14-4bad-94f1-a721a8a0b4de",
   "metadata": {},
   "outputs": [],
   "source": [
    "# Here's a Python program that demonstrates how to handle file opening errors using exception handling:\n",
    "\n",
    "\n",
    "def open_file(filename):\n",
    "    try:\n",
    "        with open(filename, \"r\") as file:\n",
    "            content = file.read()\n",
    "            print(\"File content:\")\n",
    "            print(content)\n",
    "    except FileNotFoundError:\n",
    "        print(f\"Error: The file '{filename}' does not exist.\")\n",
    "    except PermissionError:\n",
    "        print(f\"Error: Permission denied for the file '{filename}'.\")\n",
    "    except Exception as e:\n",
    "        print(f\"An unexpected error occurred: {e}\")\n",
    "\n",
    "# Example usage\n",
    "if __name__ == \"__main__\":\n",
    "    file_name = input(\"Enter the file name to open: \")\n",
    "    open_file(file_name)\n",
    "\n",
    "# ### How It Works:\n",
    "# 1. try Block:\n",
    "#    - Attempts to open the specified file in read mode.\n",
    "#    - Reads and prints the file content if successful.\n",
    "\n",
    "# 2. Exception Handling:\n",
    "#    - **`FileNotFoundError`**: Raised if the file does not exist.\n",
    "#    - **`PermissionError`**: Raised if the program lacks permissions to access the file.\n",
    "#    - **`Exception`**: Catches any other unexpected errors and prints their details.\n",
    "\n",
    "# 3. User Input:\n",
    "#    - Prompts the user to input the name of the file to open.\n",
    "\n",
    "### Example Scenarios:\n",
    "# - If the file doesn't exist:\n",
    "#   \n",
    "#   Enter the file name to open: missing_file.txt\n",
    "#   Error: The file 'missing_file.txt' does not exist.\n",
    "#   \n",
    "# - If there's a permission issue:\n",
    "#   Enter the file name to open: restricted_file.txt\n",
    "#   Error: Permission denied for the file 'restricted_file.txt'.\n",
    "#   \n",
    "# - If the file exists and is accessible:\n",
    "#   \n",
    "#   Enter the file name to open: example.txt\n",
    "#   File content:\n",
    "#   This is a new file\n",
    "\n"
   ]
  },
  {
   "cell_type": "code",
   "execution_count": null,
   "id": "2900d104-a673-45f0-bcef-b10704bf537a",
   "metadata": {},
   "outputs": [],
   "source": []
  }
 ],
 "metadata": {
  "kernelspec": {
   "display_name": "Python [conda env:base] *",
   "language": "python",
   "name": "conda-base-py"
  },
  "language_info": {
   "codemirror_mode": {
    "name": "ipython",
    "version": 3
   },
   "file_extension": ".py",
   "mimetype": "text/x-python",
   "name": "python",
   "nbconvert_exporter": "python",
   "pygments_lexer": "ipython3",
   "version": "3.12.7"
  }
 },
 "nbformat": 4,
 "nbformat_minor": 5
}
