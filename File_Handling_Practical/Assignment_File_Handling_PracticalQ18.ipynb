{
 "cells": [
  {
   "cell_type": "code",
   "execution_count": 1,
   "id": "e30c8dbf-b935-4823-b37b-f982f90d77c3",
   "metadata": {},
   "outputs": [],
   "source": [
    "import logging\n",
    "from logging.handlers import RotatingFileHandler\n",
    "\n",
    "# Set up logging configuration\n",
    "def setup_logging():\n",
    "    # Create a rotating file handler that will rotate the log file after it reaches 1MB\n",
    "    log_file = 'app.log'\n",
    "    handler = RotatingFileHandler(log_file, maxBytes=1*1024*1024, backupCount=3)\n",
    "    \n",
    "    # Set the logging level\n",
    "    handler.setLevel(logging.DEBUG)\n",
    "    \n",
    "    # Set the log format\n",
    "    formatter = logging.Formatter('%(asctime)s - %(levelname)s - %(message)s')\n",
    "    handler.setFormatter(formatter)\n",
    "    \n",
    "    # Get the root logger and add the handler\n",
    "    logger = logging.getLogger()\n",
    "    logger.setLevel(logging.DEBUG)\n",
    "    logger.addHandler(handler)\n",
    "\n",
    "# Example function to log some messages\n",
    "def log_example_messages():\n",
    "    logger = logging.getLogger()\n",
    "    \n",
    "    # Log some informational, warning, and error messages\n",
    "    logger.info(\"This is an info message.\")\n",
    "    logger.warning(\"This is a warning message.\")\n",
    "    logger.error(\"This is an error message.\")\n",
    "\n",
    "if __name__ == \"__main__\":\n",
    "    setup_logging()  # Set up logging\n",
    "    log_example_messages()  # Log some example messages\n"
   ]
  },
  {
   "cell_type": "code",
   "execution_count": null,
   "id": "db50e941-9888-4d0e-8aeb-e5499b0320d1",
   "metadata": {},
   "outputs": [],
   "source": []
  }
 ],
 "metadata": {
  "kernelspec": {
   "display_name": "Python [conda env:base] *",
   "language": "python",
   "name": "conda-base-py"
  },
  "language_info": {
   "codemirror_mode": {
    "name": "ipython",
    "version": 3
   },
   "file_extension": ".py",
   "mimetype": "text/x-python",
   "name": "python",
   "nbconvert_exporter": "python",
   "pygments_lexer": "ipython3",
   "version": "3.12.7"
  }
 },
 "nbformat": 4,
 "nbformat_minor": 5
}
