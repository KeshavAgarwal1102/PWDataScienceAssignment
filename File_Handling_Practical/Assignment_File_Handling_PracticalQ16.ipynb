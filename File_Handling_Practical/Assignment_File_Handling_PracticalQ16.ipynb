{
 "cells": [
  {
   "cell_type": "code",
   "execution_count": 2,
   "id": "78cbd2b8-cdab-4e0c-88dc-7be07fc6733f",
   "metadata": {},
   "outputs": [
    {
     "ename": "ModuleNotFoundError",
     "evalue": "No module named 'memory_profiler'",
     "output_type": "error",
     "traceback": [
      "\u001b[1;31m---------------------------------------------------------------------------\u001b[0m",
      "\u001b[1;31mModuleNotFoundError\u001b[0m                       Traceback (most recent call last)",
      "Cell \u001b[1;32mIn[2], line 14\u001b[0m\n\u001b[0;32m      1\u001b[0m \u001b[38;5;66;03m# To demonstrate memory profiling in Python, you can use the memory_profiler module, which provides a simple way to monitor memory usage of a Python program.\u001b[39;00m\n\u001b[0;32m      2\u001b[0m \n\u001b[0;32m      3\u001b[0m \u001b[38;5;66;03m# Here is a step-by-step guide to set up memory profiling and check the memory usage of a small Python program:\u001b[39;00m\n\u001b[1;32m   (...)\u001b[0m\n\u001b[0;32m     10\u001b[0m \u001b[38;5;66;03m# Step 2: Example Python Program for Memory Profiling\u001b[39;00m\n\u001b[0;32m     11\u001b[0m \u001b[38;5;66;03m# Below is a small program that calculates the sum of squares of numbers and demonstrates how to use memory profiling to track its memory usage.\u001b[39;00m\n\u001b[1;32m---> 14\u001b[0m \u001b[38;5;28;01mfrom\u001b[39;00m \u001b[38;5;21;01mmemory_profiler\u001b[39;00m \u001b[38;5;28;01mimport\u001b[39;00m profile\n\u001b[0;32m     16\u001b[0m \u001b[38;5;129m@profile\u001b[39m\n\u001b[0;32m     17\u001b[0m \u001b[38;5;28;01mdef\u001b[39;00m \u001b[38;5;21mcalculate_sum_of_squares\u001b[39m(n):\n\u001b[0;32m     18\u001b[0m     result \u001b[38;5;241m=\u001b[39m []\n",
      "\u001b[1;31mModuleNotFoundError\u001b[0m: No module named 'memory_profiler'"
     ]
    }
   ],
   "source": [
    "# To demonstrate memory profiling in Python, you can use the memory_profiler module, which provides a simple way to monitor memory usage of a Python program.\n",
    "\n",
    "# Here is a step-by-step guide to set up memory profiling and check the memory usage of a small Python program:\n",
    "\n",
    "# Step 1: Install memory_profiler\n",
    "# First, you need to install the memory_profiler module if you haven't already:\n",
    "\n",
    "# pip install memory-profiler\n",
    "\n",
    "# Step 2: Example Python Program for Memory Profiling\n",
    "# Below is a small program that calculates the sum of squares of numbers and demonstrates how to use memory profiling to track its memory usage.\n",
    "\n",
    "\n",
    "from memory_profiler import profile\n",
    "\n",
    "@profile\n",
    "def calculate_sum_of_squares(n):\n",
    "    result = []\n",
    "    for i in range(n):\n",
    "        result.append(i ** 2)\n",
    "    return sum(result)\n",
    "\n",
    "if __name__ == \"__main__\":\n",
    "    calculate_sum_of_squares(10000)\n",
    "\n",
    "\n",
    "# Explanation:\n",
    "# Using @profile Decorator:\n",
    "\n",
    "# The @profile decorator is used to mark the function calculate_sum_of_squares for memory profiling. This will allow you to see the memory usage of that specific function.\n",
    "# Memory Usage Tracking:\n",
    "\n",
    "# memory_profiler tracks memory usage during the execution of the function and provides detailed line-by-line profiling of memory consumption.\n",
    "# Function:\n",
    "\n",
    "# The function calculate_sum_of_squares generates a list of the squares of numbers from 0 to n-1 and returns the sum.\n",
    "# Step 3: Running the Program with Memory Profiling\n",
    "# To run the program with memory profiling, you need to execute the Python script from the command line using mprof (if you installed the memory_profiler package) or use the python -m memory_profiler command directly.\n",
    "\n",
    "# Run the following command in your terminal:\n",
    "\n",
    "# python -m memory_profiler Assignmment_File_Handling_PracticalQ16.py"
   ]
  },
  {
   "cell_type": "code",
   "execution_count": null,
   "id": "3c613e43-376a-4022-b627-96f3d04ea70c",
   "metadata": {},
   "outputs": [],
   "source": []
  }
 ],
 "metadata": {
  "kernelspec": {
   "display_name": "Python [conda env:base] *",
   "language": "python",
   "name": "conda-base-py"
  },
  "language_info": {
   "codemirror_mode": {
    "name": "ipython",
    "version": 3
   },
   "file_extension": ".py",
   "mimetype": "text/x-python",
   "name": "python",
   "nbconvert_exporter": "python",
   "pygments_lexer": "ipython3",
   "version": "3.12.7"
  }
 },
 "nbformat": 4,
 "nbformat_minor": 5
}
