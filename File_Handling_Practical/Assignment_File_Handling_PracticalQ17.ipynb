{
 "cells": [
  {
   "cell_type": "code",
   "execution_count": 2,
   "id": "010ce05f-6fe8-4d5e-baed-be9a95e0dbb9",
   "metadata": {},
   "outputs": [
    {
     "name": "stdout",
     "output_type": "stream",
     "text": [
      "Numbers have been written to 'numbers.txt'.\n"
     ]
    }
   ],
   "source": [
    "def write_numbers_to_file(filename, numbers):\n",
    "    try:\n",
    "        # Open the file in write mode\n",
    "        with open(filename, 'w') as file:\n",
    "            # Write each number to the file, one per line\n",
    "            for number in numbers:\n",
    "                file.write(f\"{number}\\n\")\n",
    "        print(f\"Numbers have been written to '{filename}'.\")\n",
    "    \n",
    "    except Exception as e:\n",
    "        print(f\"An error occurred: {e}\")\n",
    "\n",
    "# Example usage\n",
    "if __name__ == \"__main__\":\n",
    "    numbers_list = [1, 2, 3, 4, 5, 6, 7, 8, 9, 10]  # List of numbers\n",
    "    file_name = \"numbers.txt\"  # The file to write to\n",
    "    write_numbers_to_file(file_name, numbers_list)\n"
   ]
  },
  {
   "cell_type": "code",
   "execution_count": null,
   "id": "3ee938a5-f3bb-45ed-a835-d12f21ea9ecd",
   "metadata": {},
   "outputs": [],
   "source": []
  }
 ],
 "metadata": {
  "kernelspec": {
   "display_name": "Python [conda env:base] *",
   "language": "python",
   "name": "conda-base-py"
  },
  "language_info": {
   "codemirror_mode": {
    "name": "ipython",
    "version": 3
   },
   "file_extension": ".py",
   "mimetype": "text/x-python",
   "name": "python",
   "nbconvert_exporter": "python",
   "pygments_lexer": "ipython3",
   "version": "3.12.7"
  }
 },
 "nbformat": 4,
 "nbformat_minor": 5
}
