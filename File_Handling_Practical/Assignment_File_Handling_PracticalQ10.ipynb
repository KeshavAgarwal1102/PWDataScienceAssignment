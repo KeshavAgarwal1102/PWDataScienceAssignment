{
 "cells": [
  {
   "cell_type": "code",
   "execution_count": null,
   "id": "7407e523-792b-4740-8e20-8ecafaabadf7",
   "metadata": {},
   "outputs": [],
   "source": [
    "def append_to_file(filename, data):\n",
    "    try:\n",
    "        # Open the file in append mode\n",
    "        with open(filename, 'a') as file:\n",
    "            file.write(data + \"\\n\")  # Append data followed by a newline\n",
    "        print(f\"Data has been appended to '{filename}'.\")\n",
    "    except Exception as e:\n",
    "        print(f\"An error occurred: {e}\")\n",
    "\n",
    "# Example usage\n",
    "if __name__ == \"__main__\":\n",
    "    file_name = input(\"Enter the file name: \")\n",
    "    data_to_append = input(\"Enter the data to append: \")\n",
    "    append_to_file(file_name, data_to_append)\n"
   ]
  }
 ],
 "metadata": {
  "kernelspec": {
   "display_name": "Python [conda env:base] *",
   "language": "python",
   "name": "conda-base-py"
  },
  "language_info": {
   "codemirror_mode": {
    "name": "ipython",
    "version": 3
   },
   "file_extension": ".py",
   "mimetype": "text/x-python",
   "name": "python",
   "nbconvert_exporter": "python",
   "pygments_lexer": "ipython3",
   "version": "3.12.7"
  }
 },
 "nbformat": 4,
 "nbformat_minor": 5
}
