{
 "cells": [
  {
   "cell_type": "code",
   "execution_count": 1,
   "id": "87246ce5-0b2e-4151-a419-3e73ce029691",
   "metadata": {},
   "outputs": [
    {
     "name": "stdin",
     "output_type": "stream",
     "text": [
      "Enter the numerator:  4\n",
      "Enter the denominator:  0\n"
     ]
    },
    {
     "name": "stdout",
     "output_type": "stream",
     "text": [
      "Error: Division by zero is not allowed. Please check the log file for details.\n"
     ]
    }
   ],
   "source": [
    "import logging\n",
    "\n",
    "# Configure logging to write to a file\n",
    "logging.basicConfig(\n",
    "    filename=\"error.log\",\n",
    "    level=logging.ERROR,\n",
    "    format=\"%(asctime)s - %(levelname)s - %(message)s\"\n",
    ")\n",
    "\n",
    "def divide_numbers(numerator, denominator):\n",
    "    try:\n",
    "        result = numerator / denominator\n",
    "        print(f\"The result is: {result}\")\n",
    "    except ZeroDivisionError:\n",
    "        error_message = \"Attempted to divide by zero.\"\n",
    "        logging.error(error_message)\n",
    "        print(\"Error: Division by zero is not allowed. Please check the log file for details.\")\n",
    "\n",
    "# Example usage\n",
    "try:\n",
    "    num = int(input(\"Enter the numerator: \"))\n",
    "    denom = int(input(\"Enter the denominator: \"))\n",
    "    divide_numbers(num, denom)\n",
    "except ValueError:\n",
    "    print(\"Error: Invalid input. Please enter numeric values.\")\n",
    "\n",
    "\n",
    "# Explanation:\n",
    "# Logging Configuration:\n",
    "\n",
    "# logging.basicConfig is used to configure the logging system to write messages to a file (error.log).\n",
    "# The log level is set to ERROR to capture error messages.\n",
    "# The format includes the timestamp, log level, and message for clarity.\n",
    "# Division and Exception Handling:\n",
    "\n",
    "# The divide_numbers function performs division and handles the ZeroDivisionError using a try-except block.\n",
    "# If division by zero occurs, the error message is logged to the error.log file, and the user is notified.\n",
    "# User Input:\n",
    "\n",
    "# The program also handles invalid input (non-numeric values) using a try-except block around the input.\n",
    "# Log File:\n",
    "\n",
    "# After a division by zero error, check the error.log file for the logged error message.\n",
    "# This program makes it easy to track and debug errors using logs\n"
   ]
  },
  {
   "cell_type": "code",
   "execution_count": null,
   "id": "59552b8d-06a1-4d5b-95e8-36dd1d5eab21",
   "metadata": {},
   "outputs": [],
   "source": []
  }
 ],
 "metadata": {
  "kernelspec": {
   "display_name": "Python [conda env:base] *",
   "language": "python",
   "name": "conda-base-py"
  },
  "language_info": {
   "codemirror_mode": {
    "name": "ipython",
    "version": 3
   },
   "file_extension": ".py",
   "mimetype": "text/x-python",
   "name": "python",
   "nbconvert_exporter": "python",
   "pygments_lexer": "ipython3",
   "version": "3.12.7"
  }
 },
 "nbformat": 4,
 "nbformat_minor": 5
}
