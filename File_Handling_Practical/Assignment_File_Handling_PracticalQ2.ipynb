{
 "cells": [
  {
   "cell_type": "code",
   "execution_count": 1,
   "id": "771e82ed-a529-4c26-8677-4f724969b484",
   "metadata": {},
   "outputs": [],
   "source": [
    "# To open a file for writing in Python and write a string to it, you can use the built-in open() function in write mode (\"w\"). Here's an example:\n",
    "\n",
    "\n",
    "# Open the file in write mode\n",
    "with open(\"example.txt\", \"w\") as file:\n",
    "    # Write a string to the file\n",
    "    file.write(\"Hello, World!\")\n",
    "# Explanation:\n",
    "# open(\"example.txt\", \"w\"):\n",
    "\n",
    "# Opens the file example.txt in write mode (\"w\"). If the file doesn't exist, it will be created. If it exists, its contents will be overwritten.\n",
    "# with statement:\n",
    "\n",
    "# Automatically closes the file after the block of code is executed, even if an error occurs.\n",
    "# file.write(\"Hello, World!\"):\n",
    "\n",
    "# Writes the string \"Hello, World!\" to the file.\n",
    "# Key Notes:\n",
    "# To append to a file instead of overwriting it, use \"a\" mode (append mode).\n",
    "# If you need to write multiple lines, you can use file.writelines() or loop through a list of strings."
   ]
  },
  {
   "cell_type": "code",
   "execution_count": null,
   "id": "e0a02933-5bf2-40fc-bb00-1c8a4e5b5434",
   "metadata": {},
   "outputs": [],
   "source": []
  }
 ],
 "metadata": {
  "kernelspec": {
   "display_name": "Python 3 (ipykernel)",
   "language": "python",
   "name": "python3"
  },
  "language_info": {
   "codemirror_mode": {
    "name": "ipython",
    "version": 3
   },
   "file_extension": ".py",
   "mimetype": "text/x-python",
   "name": "python",
   "nbconvert_exporter": "python",
   "pygments_lexer": "ipython3",
   "version": "3.12.7"
  }
 },
 "nbformat": 4,
 "nbformat_minor": 5
}
