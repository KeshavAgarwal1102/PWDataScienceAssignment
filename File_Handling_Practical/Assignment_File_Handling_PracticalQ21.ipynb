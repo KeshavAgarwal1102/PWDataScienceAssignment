{
 "cells": [
  {
   "cell_type": "code",
   "execution_count": 1,
   "id": "aeda0b0e-9c8a-48c8-be49-18af32dc9880",
   "metadata": {},
   "outputs": [
    {
     "name": "stdin",
     "output_type": "stream",
     "text": [
      "Enter the file name:  example.txt\n",
      "Enter the word to search for:  fil\n"
     ]
    },
    {
     "name": "stdout",
     "output_type": "stream",
     "text": [
      "The word 'fil' occurred 0 times in the file 'example.txt'.\n"
     ]
    }
   ],
   "source": [
    "def count_word_occurrences(filename, word_to_search):\n",
    "    try:\n",
    "        # Open the file in read mode\n",
    "        with open(filename, 'r') as file:\n",
    "            # Initialize a counter for the occurrences\n",
    "            word_count = 0\n",
    "            \n",
    "            # Read the file line by line\n",
    "            for line in file:\n",
    "                # Count occurrences of the word in each line (case-insensitive)\n",
    "                word_count += line.lower().split().count(word_to_search.lower())\n",
    "        \n",
    "        # Print the number of occurrences of the word\n",
    "        print(f\"The word '{word_to_search}' occurred {word_count} times in the file '{filename}'.\")\n",
    "\n",
    "    except FileNotFoundError:\n",
    "        print(f\"Error: The file '{filename}' was not found.\")\n",
    "    except Exception as e:\n",
    "        print(f\"An error occurred: {e}\")\n",
    "\n",
    "# Example usage\n",
    "if __name__ == \"__main__\":\n",
    "    file_name = input(\"Enter the file name: \")\n",
    "    word = input(\"Enter the word to search for: \")\n",
    "    count_word_occurrences(file_name, word)\n"
   ]
  },
  {
   "cell_type": "code",
   "execution_count": null,
   "id": "4a708721-f387-4430-bbd8-a957c7f8a10e",
   "metadata": {},
   "outputs": [],
   "source": []
  }
 ],
 "metadata": {
  "kernelspec": {
   "display_name": "Python [conda env:base] *",
   "language": "python",
   "name": "conda-base-py"
  },
  "language_info": {
   "codemirror_mode": {
    "name": "ipython",
    "version": 3
   },
   "file_extension": ".py",
   "mimetype": "text/x-python",
   "name": "python",
   "nbconvert_exporter": "python",
   "pygments_lexer": "ipython3",
   "version": "3.12.7"
  }
 },
 "nbformat": 4,
 "nbformat_minor": 5
}
