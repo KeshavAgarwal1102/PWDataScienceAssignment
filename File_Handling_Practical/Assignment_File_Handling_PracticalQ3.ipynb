{
 "cells": [
  {
   "cell_type": "code",
   "execution_count": 3,
   "id": "2e03f8c8-b300-43ed-b14d-780454433977",
   "metadata": {},
   "outputs": [
    {
     "name": "stdout",
     "output_type": "stream",
     "text": [
      "The file does not exist. Creating a new file.\n",
      "A new file has been created.\n"
     ]
    }
   ],
   "source": [
    "try:\n",
    "    with open(\"example1.txt\", \"r\") as file:\n",
    "        content = file.read()\n",
    "        print(content)\n",
    "except FileNotFoundError:\n",
    "    print(\"The file does not exist. Creating a new file.\")\n",
    "    with open(\"example.txt\", \"w\") as file:\n",
    "        file.write(\"This is a new file.\")\n",
    "        print(\"A new file has been created.\")"
   ]
  },
  {
   "cell_type": "code",
   "execution_count": null,
   "id": "3995ca3b-95e0-4e55-be4f-f4dbb29ef371",
   "metadata": {},
   "outputs": [],
   "source": []
  }
 ],
 "metadata": {
  "kernelspec": {
   "display_name": "Python [conda env:base] *",
   "language": "python",
   "name": "conda-base-py"
  },
  "language_info": {
   "codemirror_mode": {
    "name": "ipython",
    "version": 3
   },
   "file_extension": ".py",
   "mimetype": "text/x-python",
   "name": "python",
   "nbconvert_exporter": "python",
   "pygments_lexer": "ipython3",
   "version": "3.12.7"
  }
 },
 "nbformat": 4,
 "nbformat_minor": 5
}
