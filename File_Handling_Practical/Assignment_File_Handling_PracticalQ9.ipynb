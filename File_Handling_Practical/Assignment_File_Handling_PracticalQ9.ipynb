{
 "cells": [
  {
   "cell_type": "code",
   "execution_count": null,
   "id": "b9a49cca-bbe6-4ba2-af9c-dba887589e95",
   "metadata": {},
   "outputs": [],
   "source": [
    "# You can read a file line by line and store its content in a list in Python using the following approaches:\n",
    "\n",
    "\n",
    "def read_file_to_list(filename):\n",
    "    try:\n",
    "        # Open the file and read lines\n",
    "        with open(filename, \"r\") as file:\n",
    "            lines = file.readlines()  # Reads all lines into a list\n",
    "        return [line.strip() for line in lines]  # Strip newline characters\n",
    "    except FileNotFoundError:\n",
    "        print(f\"Error: The file '{filename}' does not exist.\")\n",
    "        return []\n",
    "    except Exception as e:\n",
    "        print(f\"An unexpected error occurred: {e}\")\n",
    "        return []\n",
    "\n",
    "# Example usage\n",
    "if __name__ == \"__main__\":\n",
    "    file_name = input(\"Enter the file name: \")\n",
    "    lines = read_file_to_list(file_name)\n",
    "    if lines:\n",
    "        print(\"File content as a list:\")\n",
    "        print(lines)\n",
    "# How It Works:\n",
    "# Using readlines():\n",
    "\n",
    "# The file.readlines() method reads all lines of a file into a list.\n",
    "# Each element of the list corresponds to a line in the file.\n",
    "# Stripping Newlines:\n",
    "\n",
    "# The line.strip() method removes leading and trailing whitespace, including newline characters (\\n).\n",
    "# Error Handling:\n",
    "\n",
    "# Handles FileNotFoundError if the file doesn't exist.\n",
    "# Catches other unexpected exceptions for robustness"
   ]
  }
 ],
 "metadata": {
  "kernelspec": {
   "display_name": "Python [conda env:base] *",
   "language": "python",
   "name": "conda-base-py"
  },
  "language_info": {
   "codemirror_mode": {
    "name": "ipython",
    "version": 3
   },
   "file_extension": ".py",
   "mimetype": "text/x-python",
   "name": "python",
   "nbconvert_exporter": "python",
   "pygments_lexer": "ipython3",
   "version": "3.12.7"
  }
 },
 "nbformat": 4,
 "nbformat_minor": 5
}
