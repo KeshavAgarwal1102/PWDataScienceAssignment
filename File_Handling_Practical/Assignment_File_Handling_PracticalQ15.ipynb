{
 "cells": [
  {
   "cell_type": "code",
   "execution_count": null,
   "id": "f4336cc5-aae5-416e-8fca-e72cbc4d9eb2",
   "metadata": {},
   "outputs": [],
   "source": [
    "def read_file_and_handle_empty(filename):\n",
    "    try:\n",
    "        # Open the file in read mode\n",
    "        with open(filename, 'r') as file:\n",
    "            content = file.read()\n",
    "            \n",
    "            if not content:  # Check if the file is empty\n",
    "                print(f\"The file '{filename}' is empty.\")\n",
    "            else:\n",
    "                print(\"File content:\")\n",
    "                print(content)\n",
    "    \n",
    "    except FileNotFoundError:\n",
    "        print(f\"Error: The file '{filename}' does not exist.\")\n",
    "    except Exception as e:\n",
    "        print(f\"An unexpected error occurred: {e}\")\n",
    "\n",
    "# Example usage\n",
    "if __name__ == \"__main__\":\n",
    "    file_name = input(\"Enter the file name: \")\n",
    "    read_file_and_handle_empty(file_name)\n"
   ]
  }
 ],
 "metadata": {
  "kernelspec": {
   "display_name": "Python [conda env:base] *",
   "language": "python",
   "name": "conda-base-py"
  },
  "language_info": {
   "codemirror_mode": {
    "name": "ipython",
    "version": 3
   },
   "file_extension": ".py",
   "mimetype": "text/x-python",
   "name": "python",
   "nbconvert_exporter": "python",
   "pygments_lexer": "ipython3",
   "version": "3.12.7"
  }
 },
 "nbformat": 4,
 "nbformat_minor": 5
}
