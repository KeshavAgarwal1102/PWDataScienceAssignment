{
 "cells": [
  {
   "cell_type": "code",
   "execution_count": 3,
   "id": "05b1781f-31ff-4a3e-8718-796431c64f0f",
   "metadata": {},
   "outputs": [
    {
     "name": "stdout",
     "output_type": "stream",
     "text": [
      "Content has been successfully copied from 'example.txt' to 'example1.txt'.\n"
     ]
    }
   ],
   "source": [
    "# Define the input and output file names\n",
    "input_file = \"example.txt\"\n",
    "output_file = \"example1.txt\"\n",
    "\n",
    "try:\n",
    "    # Open the source file for reading\n",
    "    with open(input_file, \"r\") as source:\n",
    "        # Read the content of the source file\n",
    "        content = source.read()\n",
    "\n",
    "    # Open the destination file for writing\n",
    "    with open(output_file, \"w\") as destination:\n",
    "        # Write the content to the destination file\n",
    "        destination.write(content)\n",
    "\n",
    "    print(f\"Content has been successfully copied from '{input_file}' to '{output_file}'.\")\n",
    "except FileNotFoundError:\n",
    "    print(f\"The file '{input_file}' does not exist. Please provide a valid source file.\")\n",
    "except IOError as e:\n",
    "    print(f\"An I/O error occurred: {e}\")\n"
   ]
  },
  {
   "cell_type": "code",
   "execution_count": null,
   "id": "d52e1d3b-02f5-4073-ad70-e34818b17db4",
   "metadata": {},
   "outputs": [],
   "source": []
  }
 ],
 "metadata": {
  "kernelspec": {
   "display_name": "Python [conda env:base] *",
   "language": "python",
   "name": "conda-base-py"
  },
  "language_info": {
   "codemirror_mode": {
    "name": "ipython",
    "version": 3
   },
   "file_extension": ".py",
   "mimetype": "text/x-python",
   "name": "python",
   "nbconvert_exporter": "python",
   "pygments_lexer": "ipython3",
   "version": "3.12.7"
  }
 },
 "nbformat": 4,
 "nbformat_minor": 5
}
