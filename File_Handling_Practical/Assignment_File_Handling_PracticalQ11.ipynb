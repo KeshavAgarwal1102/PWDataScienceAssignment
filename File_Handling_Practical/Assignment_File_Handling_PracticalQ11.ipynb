{
 "cells": [
  {
   "cell_type": "code",
   "execution_count": 1,
   "id": "0ecd4290-b6bf-458f-9324-90c8236a9c5a",
   "metadata": {},
   "outputs": [
    {
     "name": "stdout",
     "output_type": "stream",
     "text": [
      "The value for the key 'name' is: Alice\n",
      "Error: The key 'country' does not exist in the dictionary.\n"
     ]
    }
   ],
   "source": [
    "def access_dict_key(my_dict, key):\n",
    "    try:\n",
    "        # Try to access the value of the key\n",
    "        value = my_dict[key]\n",
    "        print(f\"The value for the key '{key}' is: {value}\")\n",
    "    except KeyError:\n",
    "        # Handle the case where the key doesn't exist in the dictionary\n",
    "        print(f\"Error: The key '{key}' does not exist in the dictionary.\")\n",
    "\n",
    "# Example usage\n",
    "if __name__ == \"__main__\":\n",
    "    # Sample dictionary\n",
    "    my_dict = {\n",
    "        \"name\": \"Alice\",\n",
    "        \"age\": 30,\n",
    "        \"city\": \"New York\"\n",
    "    }\n",
    "\n",
    "    # Test with existing key\n",
    "    access_dict_key(my_dict, \"name\")\n",
    "    \n",
    "    # Test with a non-existing key\n",
    "    access_dict_key(my_dict, \"country\")\n"
   ]
  },
  {
   "cell_type": "code",
   "execution_count": null,
   "id": "e2f903bc-5ce0-4ace-af22-25f07395cb8b",
   "metadata": {},
   "outputs": [],
   "source": []
  }
 ],
 "metadata": {
  "kernelspec": {
   "display_name": "Python [conda env:base] *",
   "language": "python",
   "name": "conda-base-py"
  },
  "language_info": {
   "codemirror_mode": {
    "name": "ipython",
    "version": 3
   },
   "file_extension": ".py",
   "mimetype": "text/x-python",
   "name": "python",
   "nbconvert_exporter": "python",
   "pygments_lexer": "ipython3",
   "version": "3.12.7"
  }
 },
 "nbformat": 4,
 "nbformat_minor": 5
}
