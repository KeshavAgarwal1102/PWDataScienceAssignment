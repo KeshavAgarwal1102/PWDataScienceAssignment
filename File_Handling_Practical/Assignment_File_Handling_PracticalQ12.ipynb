{
 "cells": [
  {
   "cell_type": "code",
   "execution_count": 1,
   "id": "03bc8b1d-48e5-49b6-895c-98386b31cdc5",
   "metadata": {},
   "outputs": [
    {
     "name": "stdin",
     "output_type": "stream",
     "text": [
      "Enter numerator:  2\n",
      "Enter denominator:  6\n"
     ]
    },
    {
     "name": "stdout",
     "output_type": "stream",
     "text": [
      "The result of the division is: 0.3333333333333333\n"
     ]
    },
    {
     "name": "stdin",
     "output_type": "stream",
     "text": [
      "Enter index to access from the list:  6\n"
     ]
    },
    {
     "name": "stdout",
     "output_type": "stream",
     "text": [
      "Error: The index is out of range.\n"
     ]
    }
   ],
   "source": [
    "def handle_multiple_exceptions():\n",
    "    try:\n",
    "        # Taking input for a division operation\n",
    "        numerator = int(input(\"Enter numerator: \"))\n",
    "        denominator = int(input(\"Enter denominator: \"))\n",
    "        result = numerator / denominator\n",
    "        print(f\"The result of the division is: {result}\")\n",
    "        \n",
    "        # Taking input for a list index operation\n",
    "        my_list = [1, 2, 3, 4]\n",
    "        index = int(input(\"Enter index to access from the list: \"))\n",
    "        print(f\"The value at index {index} is: {my_list[index]}\")\n",
    "    \n",
    "    except ZeroDivisionError:\n",
    "        print(\"Error: Cannot divide by zero.\")\n",
    "    except ValueError:\n",
    "        print(\"Error: Invalid input. Please enter numeric values.\")\n",
    "    except IndexError:\n",
    "        print(\"Error: The index is out of range.\")\n",
    "    except Exception as e:\n",
    "        print(f\"An unexpected error occurred: {e}\")\n",
    "\n",
    "# Example usage\n",
    "if __name__ == \"__main__\":\n",
    "    handle_multiple_exceptions()\n"
   ]
  },
  {
   "cell_type": "code",
   "execution_count": null,
   "id": "8f2a510f-f729-4551-bdd8-63e698d92a14",
   "metadata": {},
   "outputs": [],
   "source": []
  }
 ],
 "metadata": {
  "kernelspec": {
   "display_name": "Python [conda env:base] *",
   "language": "python",
   "name": "conda-base-py"
  },
  "language_info": {
   "codemirror_mode": {
    "name": "ipython",
    "version": 3
   },
   "file_extension": ".py",
   "mimetype": "text/x-python",
   "name": "python",
   "nbconvert_exporter": "python",
   "pygments_lexer": "ipython3",
   "version": "3.12.7"
  }
 },
 "nbformat": 4,
 "nbformat_minor": 5
}
