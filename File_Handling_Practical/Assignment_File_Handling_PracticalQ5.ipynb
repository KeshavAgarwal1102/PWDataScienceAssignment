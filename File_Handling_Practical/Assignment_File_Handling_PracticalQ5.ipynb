{
 "cells": [
  {
   "cell_type": "code",
   "execution_count": 1,
   "id": "1c1170d8-67b5-4f10-8d2d-b33dfc60fb93",
   "metadata": {},
   "outputs": [
    {
     "name": "stdin",
     "output_type": "stream",
     "text": [
      "Enter the numerator:  2\n",
      "Enter the denominator:  0\n"
     ]
    },
    {
     "name": "stdout",
     "output_type": "stream",
     "text": [
      "Error: Division by zero is not allowed.\n"
     ]
    }
   ],
   "source": [
    "# To catch and handle a division by zero error in Python, you can use a `try`-`except` block. Python raises a `ZeroDivisionError` when you attempt to divide a number by zero. Here's an example:\n",
    "\n",
    "\n",
    "try:\n",
    "    numerator = int(input(\"Enter the numerator: \"))\n",
    "    denominator = int(input(\"Enter the denominator: \"))\n",
    "    result = numerator / denominator\n",
    "    print(f\"The result is: {result}\")\n",
    "except ZeroDivisionError:\n",
    "    print(\"Error: Division by zero is not allowed.\")\n",
    "except ValueError:\n",
    "    print(\"Error: Please enter valid numbers.\")\n",
    "\n",
    "# ### Explanation:\n",
    "# 1. **Division by Zero**:\n",
    "#    - The `ZeroDivisionError` exception is raised when the denominator is zero.\n",
    "#    - The `except ZeroDivisionError` block catches this error and provides a meaningful message.\n",
    "\n",
    "# 2. **Value Error Handling**:\n",
    "#    - The `except ValueError` block is included to handle invalid input, such as entering non-numeric values.\n",
    "\n",
    "# 3. **Graceful Error Handling**:\n",
    "#    - Instead of crashing, the program provides feedback and can be extended to prompt the user to re-enter valid values.\n",
    "\n",
    "# 4. **Additional Scenarios**:\n",
    "#    - For floor division (`//`) or modulo (`%`), a `ZeroDivisionError` is also raised, and this approach works for those cases too.\n",
    "\n",
    "# By handling this exception, your program becomes more robust and user-friendly."
   ]
  },
  {
   "cell_type": "code",
   "execution_count": null,
   "id": "661c7033-139e-4052-b2e9-9637e5b17d6e",
   "metadata": {},
   "outputs": [],
   "source": []
  }
 ],
 "metadata": {
  "kernelspec": {
   "display_name": "Python [conda env:base] *",
   "language": "python",
   "name": "conda-base-py"
  },
  "language_info": {
   "codemirror_mode": {
    "name": "ipython",
    "version": 3
   },
   "file_extension": ".py",
   "mimetype": "text/x-python",
   "name": "python",
   "nbconvert_exporter": "python",
   "pygments_lexer": "ipython3",
   "version": "3.12.7"
  }
 },
 "nbformat": 4,
 "nbformat_minor": 5
}
