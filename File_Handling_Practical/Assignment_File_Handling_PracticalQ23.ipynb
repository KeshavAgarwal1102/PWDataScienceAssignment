{
 "cells": [
  {
   "cell_type": "code",
   "execution_count": 2,
   "id": "76107938-34be-4180-a73a-8ed418d1bb25",
   "metadata": {},
   "outputs": [
    {
     "name": "stdin",
     "output_type": "stream",
     "text": [
      "Enter the file name:  example.txt\n"
     ]
    },
    {
     "name": "stdout",
     "output_type": "stream",
     "text": [
      "File content:\n",
      "This is a new file.\n"
     ]
    }
   ],
   "source": [
    "import logging\n",
    "\n",
    "# Configure the logging settings\n",
    "logging.basicConfig(\n",
    "    filename=\"file_errors.log\",\n",
    "    level=logging.ERROR,\n",
    "    format=\"%(asctime)s - %(levelname)s - %(message)s\",\n",
    ")\n",
    "\n",
    "def handle_file_operations(filename):\n",
    "    try:\n",
    "        # Attempt to open a file for reading\n",
    "        with open(filename, \"r\") as file:\n",
    "            content = file.read()\n",
    "            print(\"File content:\")\n",
    "            print(content)\n",
    "    \n",
    "    except FileNotFoundError:\n",
    "        error_message = f\"Error: The file '{filename}' was not found.\"\n",
    "        print(error_message)\n",
    "        logging.error(error_message)\n",
    "    \n",
    "    except PermissionError:\n",
    "        error_message = f\"Error: Permission denied for file '{filename}'.\"\n",
    "        print(error_message)\n",
    "        logging.error(error_message)\n",
    "    \n",
    "    except Exception as e:\n",
    "        error_message = f\"An unexpected error occurred: {e}\"\n",
    "        print(error_message)\n",
    "        logging.error(error_message)\n",
    "\n",
    "# Example usage\n",
    "if __name__ == \"__main__\":\n",
    "    file_name = input(\"Enter the file name: \")\n",
    "    handle_file_operations(file_name)\n"
   ]
  },
  {
   "cell_type": "code",
   "execution_count": null,
   "id": "577c975d-63da-42b3-a76e-504e166f4061",
   "metadata": {},
   "outputs": [],
   "source": []
  }
 ],
 "metadata": {
  "kernelspec": {
   "display_name": "Python [conda env:base] *",
   "language": "python",
   "name": "conda-base-py"
  },
  "language_info": {
   "codemirror_mode": {
    "name": "ipython",
    "version": 3
   },
   "file_extension": ".py",
   "mimetype": "text/x-python",
   "name": "python",
   "nbconvert_exporter": "python",
   "pygments_lexer": "ipython3",
   "version": "3.12.7"
  }
 },
 "nbformat": 4,
 "nbformat_minor": 5
}
