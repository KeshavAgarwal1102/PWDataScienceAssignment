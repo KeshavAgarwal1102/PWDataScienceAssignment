{
 "cells": [
  {
   "cell_type": "code",
   "execution_count": 1,
   "id": "a7760d34-6ca7-4131-8ac5-a02a9bb72256",
   "metadata": {},
   "outputs": [
    {
     "name": "stdin",
     "output_type": "stream",
     "text": [
      "Enter the file name:  example.txt\n"
     ]
    },
    {
     "name": "stdout",
     "output_type": "stream",
     "text": [
      "File content:\n",
      "This is a new file.\n"
     ]
    }
   ],
   "source": [
    "def read_file_using_context_manager(filename):\n",
    "    try:\n",
    "        # Using a context manager to open and read the file\n",
    "        with open(filename, 'r') as file:\n",
    "            # Read the entire content of the file\n",
    "            content = file.read()\n",
    "            print(\"File content:\")\n",
    "            print(content)\n",
    "    \n",
    "    except FileNotFoundError:\n",
    "        print(f\"Error: The file '{filename}' was not found.\")\n",
    "    except Exception as e:\n",
    "        print(f\"An error occurred: {e}\")\n",
    "\n",
    "# Example usage\n",
    "if __name__ == \"__main__\":\n",
    "    file_name = input(\"Enter the file name: \")\n",
    "    read_file_using_context_manager(file_name)\n"
   ]
  },
  {
   "cell_type": "code",
   "execution_count": null,
   "id": "f5d0f134-dc7f-4209-9f56-ec664c5328a6",
   "metadata": {},
   "outputs": [],
   "source": []
  }
 ],
 "metadata": {
  "kernelspec": {
   "display_name": "Python [conda env:base] *",
   "language": "python",
   "name": "conda-base-py"
  },
  "language_info": {
   "codemirror_mode": {
    "name": "ipython",
    "version": 3
   },
   "file_extension": ".py",
   "mimetype": "text/x-python",
   "name": "python",
   "nbconvert_exporter": "python",
   "pygments_lexer": "ipython3",
   "version": "3.12.7"
  }
 },
 "nbformat": 4,
 "nbformat_minor": 5
}
