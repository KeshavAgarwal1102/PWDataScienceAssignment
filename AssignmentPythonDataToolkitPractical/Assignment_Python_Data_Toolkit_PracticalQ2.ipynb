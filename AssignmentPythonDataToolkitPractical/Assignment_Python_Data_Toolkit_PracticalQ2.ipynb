{
  "nbformat": 4,
  "nbformat_minor": 0,
  "metadata": {
    "colab": {
      "provenance": []
    },
    "kernelspec": {
      "name": "python3",
      "display_name": "Python 3"
    },
    "language_info": {
      "name": "python"
    }
  },
  "cells": [
    {
      "cell_type": "code",
      "execution_count": 2,
      "metadata": {
        "colab": {
          "base_uri": "https://localhost:8080/"
        },
        "id": "zDouD2p6CLmn",
        "outputId": "ec8e07b7-8420-4e65-cf51-d93eb62174cb"
      },
      "outputs": [
        {
          "output_type": "stream",
          "name": "stdout",
          "text": [
            "DataFrame:\n",
            "      Name  Age  Salary\n",
            "0    Alice   25   50000\n",
            "1      Bob   30   60000\n",
            "2  Charlie   35   70000\n",
            "\n",
            "Mean of the 'Salary' column:\n",
            "60000.0\n"
          ]
        }
      ],
      "source": [
        "# Here’s a Pandas script to find the mean of a specific column in a DataFrame:\n",
        "\n",
        "### Code Example\n",
        "\n",
        "import pandas as pd\n",
        "\n",
        "# Create a sample DataFrame\n",
        "data = {\n",
        "    \"Name\": [\"Alice\", \"Bob\", \"Charlie\"],\n",
        "    \"Age\": [25, 30, 35],\n",
        "    \"Salary\": [50000, 60000, 70000]\n",
        "}\n",
        "\n",
        "df = pd.DataFrame(data)\n",
        "\n",
        "# Calculate the mean of a specific column (e.g., 'Salary')\n",
        "mean_salary = df[\"Salary\"].mean()\n",
        "\n",
        "print(\"DataFrame:\")\n",
        "print(df)\n",
        "print(\"\\nMean of the 'Salary' column:\")\n",
        "print(mean_salary)\n",
        "\n",
        "\n",
        "# ### Explanation:\n",
        "# 1. Creating a DataFrame:\n",
        "#    - Use `pd.DataFrame()` to create a DataFrame from a dictionary.\n",
        "#    - Each key in the dictionary becomes a column, and its values are the column data.\n",
        "\n",
        "# 2. Accessing a Specific Column:\n",
        "#    - Use `df[\"ColumnName\"]` to select a specific column (e.g., `\"Salary\"`).\n",
        "\n",
        "# 3. Calculating the Mean:\n",
        "#    - Call the `.mean()` method on the column to compute its mean.\n"
      ]
    },
    {
      "cell_type": "code",
      "source": [],
      "metadata": {
        "id": "B5MnmJI5Cddn"
      },
      "execution_count": null,
      "outputs": []
    }
  ]
}