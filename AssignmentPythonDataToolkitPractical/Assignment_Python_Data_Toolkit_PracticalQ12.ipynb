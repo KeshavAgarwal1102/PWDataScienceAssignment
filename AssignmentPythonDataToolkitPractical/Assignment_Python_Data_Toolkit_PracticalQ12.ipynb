{
  "nbformat": 4,
  "nbformat_minor": 0,
  "metadata": {
    "colab": {
      "provenance": []
    },
    "kernelspec": {
      "name": "python3",
      "display_name": "Python 3"
    },
    "language_info": {
      "name": "python"
    }
  },
  "cells": [
    {
      "cell_type": "code",
      "execution_count": null,
      "metadata": {
        "id": "q9Axo3oLi7Vn"
      },
      "outputs": [],
      "source": [
        "import pandas as pd\n",
        "\n",
        "# Load the CSV file\n",
        "# Replace 'file.csv' with the actual path to your CSV file\n",
        "df = pd.read_csv('file.csv')\n",
        "\n",
        "# Display the first 5 rows of the DataFrame\n",
        "print(\"First 5 rows of the CSV file:\")\n",
        "print(df.head())\n"
      ]
    }
  ]
}