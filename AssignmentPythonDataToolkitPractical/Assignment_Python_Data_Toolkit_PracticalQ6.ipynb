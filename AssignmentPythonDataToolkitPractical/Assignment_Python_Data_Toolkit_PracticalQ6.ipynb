{
  "nbformat": 4,
  "nbformat_minor": 0,
  "metadata": {
    "colab": {
      "provenance": []
    },
    "kernelspec": {
      "name": "python3",
      "display_name": "Python 3"
    },
    "language_info": {
      "name": "python"
    }
  },
  "cells": [
    {
      "cell_type": "code",
      "execution_count": null,
      "metadata": {
        "id": "l0IZ3UV2T7EZ"
      },
      "outputs": [],
      "source": [
        "import pandas as pd\n",
        "\n",
        "# Create a DataFrame\n",
        "data = {\n",
        "    'Name': ['Alice', 'Bob', 'Charlie', 'Diana'],\n",
        "    'Age': [25, 30, 35, 40]\n",
        "}\n",
        "\n",
        "df = pd.DataFrame(data)\n",
        "\n",
        "# Add a new column based on the existing 'Age' column\n",
        "# For example, calculate the age in 10 years\n",
        "df['Age_in_10_years'] = df['Age'] + 10\n",
        "\n",
        "# Display the DataFrame\n",
        "print(df)\n"
      ]
    }
  ]
}