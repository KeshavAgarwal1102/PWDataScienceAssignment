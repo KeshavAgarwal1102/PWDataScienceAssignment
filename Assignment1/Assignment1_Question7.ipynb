{
  "nbformat": 4,
  "nbformat_minor": 0,
  "metadata": {
    "colab": {
      "provenance": []
    },
    "kernelspec": {
      "name": "python3",
      "display_name": "Python 3"
    },
    "language_info": {
      "name": "python"
    }
  },
  "cells": [
    {
      "cell_type": "code",
      "execution_count": 1,
      "metadata": {
        "colab": {
          "base_uri": "https://localhost:8080/",
          "height": 70
        },
        "id": "ALrrTA-9XWWs",
        "outputId": "09e7aae9-65e8-47b5-f9f9-364a44133e60"
      },
      "outputs": [
        {
          "output_type": "execute_result",
          "data": {
            "text/plain": [
              "'In Python, loops are employed to repeat a sequence of actions or code until a specific condition is fulfilled. \\nPython offers two primary types of loops: for loops and while loops. \\n“for” loops are used for iterating over a sequence of elements(such as a list, tuple, string, or range) and execute a block of code a specific number of times, while “while” loops are used for executing code until a specified condition becomes False \\n'"
            ],
            "application/vnd.google.colaboratory.intrinsic+json": {
              "type": "string"
            }
          },
          "metadata": {},
          "execution_count": 1
        }
      ],
      "source": [
        "'''In Python, loops are employed to repeat a sequence of actions or code until a specific condition is fulfilled.\n",
        "Python offers two primary types of loops: for loops and while loops.\n",
        "“for” loops are used for iterating over a sequence of elements(such as a list, tuple, string, or range) and execute a block of code a specific number of times,\n",
        "while “while” loops are used for executing code until a specified condition becomes False ,It is commonly used when the number of iterations is not known beforehand\n",
        "'''"
      ]
    },
    {
      "cell_type": "code",
      "source": [
        "# Example: Using a for loop with a list of numbers\n",
        "\n",
        "numbers = [2, 4, 6, 8, 10]\n",
        "sum_of_numbers = 0\n",
        "even_numbers = []\n",
        "\n",
        "# Using for loop to calculate the sum and store even numbers\n",
        "for num in numbers:\n",
        "    sum_of_numbers += num  # Add each number to sum_of_numbers\n",
        "    if num % 2 == 0:\n",
        "        even_numbers.append(num)  # Add even numbers to the list\n",
        "\n",
        "print(\"Sum of numbers:\", sum_of_numbers)  # Output: 30\n",
        "print(\"Even numbers:\", even_numbers)     # Output: [2, 4, 6, 8, 10]"
      ],
      "metadata": {
        "colab": {
          "base_uri": "https://localhost:8080/"
        },
        "id": "_UNW3a2uaogF",
        "outputId": "44f1d7fd-a945-44aa-ee80-2909d7d4b0c9"
      },
      "execution_count": 2,
      "outputs": [
        {
          "output_type": "stream",
          "name": "stdout",
          "text": [
            "Sum of numbers: 30\n",
            "Even numbers: [2, 4, 6, 8, 10]\n"
          ]
        }
      ]
    },
    {
      "cell_type": "code",
      "source": [
        "# Example: Using a while loop to print squares of numbers\n",
        "\n",
        "number = 1\n",
        "squares = []\n",
        "\n",
        "# Using while loop to calculate squares of numbers\n",
        "while number <= 5:\n",
        "    square = number ** 2  # Calculate the square of the number\n",
        "    squares.append(square)  # Append the square to the list\n",
        "    number += 1  # Increment the number to move to the next\n",
        "\n",
        "print(\"Squares of numbers from 1 to 5:\", squares)  # Output: [1, 4, 9, 16, 25]"
      ],
      "metadata": {
        "colab": {
          "base_uri": "https://localhost:8080/"
        },
        "id": "WWt5xusmbWwi",
        "outputId": "dbf05464-57cd-4723-cbd1-494cef773b3a"
      },
      "execution_count": 3,
      "outputs": [
        {
          "output_type": "stream",
          "name": "stdout",
          "text": [
            "Squares of numbers from 1 to 5: [1, 4, 9, 16, 25]\n"
          ]
        }
      ]
    },
    {
      "cell_type": "code",
      "source": [
        "# Example: Using break to stop the loop, it is used to jump out of the loop\n",
        "for i in range(10):\n",
        "    if i == 5:\n",
        "        print(\"Breaking the loop.\")\n",
        "        break  # Exit the loop when i equals 5\n",
        "    print(i)  # Output: 0, 1, 2, 3, 4"
      ],
      "metadata": {
        "colab": {
          "base_uri": "https://localhost:8080/"
        },
        "id": "2iytJk6EbgHw",
        "outputId": "3b4fb66f-a806-4ca9-e1c8-dd1132b66679"
      },
      "execution_count": 4,
      "outputs": [
        {
          "output_type": "stream",
          "name": "stdout",
          "text": [
            "0\n",
            "1\n",
            "2\n",
            "3\n",
            "4\n",
            "Breaking the loop.\n"
          ]
        }
      ]
    },
    {
      "cell_type": "code",
      "source": [
        "# Example: Skipping even numbers, continue statement is used to skip the iteration and jump to the next one\n",
        "\n",
        "for i in range(10):\n",
        "    if i % 2 == 0:\n",
        "        continue  # Skip even numbers\n",
        "    print(i)  # Output: 1, 3, 5, 7, 9"
      ],
      "metadata": {
        "id": "f9B_41XJck_o"
      },
      "execution_count": null,
      "outputs": []
    }
  ]
}