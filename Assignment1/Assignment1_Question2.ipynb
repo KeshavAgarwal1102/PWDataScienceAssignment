{
  "nbformat": 4,
  "nbformat_minor": 0,
  "metadata": {
    "colab": {
      "provenance": []
    },
    "kernelspec": {
      "name": "python3",
      "display_name": "Python 3"
    },
    "language_info": {
      "name": "python"
    }
  },
  "cells": [
    {
      "cell_type": "code",
      "execution_count": 1,
      "metadata": {
        "colab": {
          "base_uri": "https://localhost:8080/",
          "height": 70
        },
        "id": "9isb_t6lG6ZA",
        "outputId": "dc740c2c-d2b2-4c66-96e3-3fd2a74088e1"
      },
      "outputs": [
        {
          "output_type": "execute_result",
          "data": {
            "text/plain": [
              "'In Python, keywords are reserved words that have a specific purpose and meaning\\nKeywords are reserved words in Python that have special meanings and cannot be used as identifiers (variable names, function names, etc.). \\nExamples of keywords include if, else, while, for, def, class, import, try, except, return, True, False, None, etc.\\nKeywords are case-sensitive and cannot be redefined or overridden within a Python program.'"
            ],
            "application/vnd.google.colaboratory.intrinsic+json": {
              "type": "string"
            }
          },
          "metadata": {},
          "execution_count": 1
        }
      ],
      "source": [
        "'''In Python, keywords are reserved words that have a specific purpose and meaning\n",
        "Keywords are reserved words in Python that have special meanings and cannot be used as identifiers (variable names, function names, etc.).\n",
        "Examples of keywords include if, else, while, for, def, class, import, try, except, return, True, False, None, etc.\n",
        "Keywords are case-sensitive and cannot be redefined or overridden within a Python program.'''"
      ]
    },
    {
      "cell_type": "code",
      "source": [
        "#Example\n",
        "#Here input,print, if are keywords\n",
        "\n",
        "name=input(\"Enter your name\")\n",
        "\n",
        "if name == \"Keshav\":\n",
        "    print(\"Welcome to the PWSKILLS Data SCience Course\")"
      ],
      "metadata": {
        "colab": {
          "base_uri": "https://localhost:8080/"
        },
        "id": "K2PM1lWEHFJj",
        "outputId": "aa1a1900-c9cc-42d0-db9f-abe2dcf31038"
      },
      "execution_count": 4,
      "outputs": [
        {
          "output_type": "stream",
          "name": "stdout",
          "text": [
            "Enter your nameKeshav\n",
            "Welcome to the PWSKILLS Data SCience Course\n"
          ]
        }
      ]
    },
    {
      "cell_type": "code",
      "source": [],
      "metadata": {
        "id": "0hwumE8-HTL7"
      },
      "execution_count": null,
      "outputs": []
    }
  ]
}