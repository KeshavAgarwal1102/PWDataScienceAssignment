{
  "nbformat": 4,
  "nbformat_minor": 0,
  "metadata": {
    "colab": {
      "provenance": []
    },
    "kernelspec": {
      "name": "python3",
      "display_name": "Python 3"
    },
    "language_info": {
      "name": "python"
    }
  },
  "cells": [
    {
      "cell_type": "code",
      "execution_count": 2,
      "metadata": {
        "colab": {
          "base_uri": "https://localhost:8080/"
        },
        "id": "jBbtuIk3KcXc",
        "outputId": "4873eafc-ab29-4fea-ff75-ae0f22505c01"
      },
      "outputs": [
        {
          "output_type": "stream",
          "name": "stdout",
          "text": [
            "13\n",
            "1\n",
            "Area of rectangle: 50\n",
            "Perimeter of rectangle: 30\n"
          ]
        }
      ],
      "source": [
        "#Atrihmetic Opeartors\n",
        "a = 10\n",
        "b = 3\n",
        "print(a + b)    # Output: 13\n",
        "print(a % b)    # Output: 1\n",
        "\n",
        "length = 10\n",
        "width = 5\n",
        "\n",
        "# Area calculation\n",
        "area = length * width\n",
        "print(\"Area of rectangle:\", area)  # Output: Area of rectangle: 50\n",
        "\n",
        "# Perimeter calculation\n",
        "perimeter = 2 * (length + width)\n",
        "print(\"Perimeter of rectangle:\", perimeter)  # Output: Perimeter of rectangle: 30"
      ]
    },
    {
      "cell_type": "code",
      "source": [
        "#Comparison Opeartor\n",
        "a = 5\n",
        "b = 10\n",
        "print(a > b)    # Output: False\n",
        "print(a != b)   # Output: True"
      ],
      "metadata": {
        "colab": {
          "base_uri": "https://localhost:8080/"
        },
        "id": "b_KwbdqcObAl",
        "outputId": "40603e13-ee18-4930-849e-b66a48e259fe"
      },
      "execution_count": 3,
      "outputs": [
        {
          "output_type": "stream",
          "name": "stdout",
          "text": [
            "False\n",
            "True\n"
          ]
        }
      ]
    },
    {
      "cell_type": "code",
      "source": [
        "#Assignment Operator\n",
        "x = 10     # Assign initial value\n",
        "print(\"Initial value of x:\", x)\n",
        "\n",
        "x += 5     # Add and assign\n",
        "print(\"After x += 5:\", x)\n",
        "\n",
        "x *= 2     # Multiply and assign\n",
        "print(\"After x *= 2:\", x)\n",
        "\n",
        "x -= 3     # Subtract and assign\n",
        "print(\"After x -= 3:\", x)"
      ],
      "metadata": {
        "colab": {
          "base_uri": "https://localhost:8080/"
        },
        "id": "JRiv7Y7JPErs",
        "outputId": "4a33ba54-734e-48fc-f732-8df67a243742"
      },
      "execution_count": 4,
      "outputs": [
        {
          "output_type": "stream",
          "name": "stdout",
          "text": [
            "Initial value of x: 10\n",
            "After x += 5: 15\n",
            "After x *= 2: 30\n",
            "After x -= 3: 27\n"
          ]
        }
      ]
    },
    {
      "cell_type": "code",
      "source": [
        "#Logical operator\n",
        "is_weekend = True\n",
        "finished_homework = False\n",
        "permission_from_parents = True\n",
        "\n",
        "# Check if we can go to the party\n",
        "can_go_to_party = is_weekend and (finished_homework or permission_from_parents)\n",
        "print(\"Can go to party:\", can_go_to_party)  # Output: True"
      ],
      "metadata": {
        "colab": {
          "base_uri": "https://localhost:8080/"
        },
        "id": "Nmhfod7DPtyy",
        "outputId": "31469a87-9c31-4ad5-ac51-da28b4823c45"
      },
      "execution_count": 5,
      "outputs": [
        {
          "output_type": "stream",
          "name": "stdout",
          "text": [
            "Can go to party: True\n"
          ]
        }
      ]
    },
    {
      "cell_type": "code",
      "source": [
        "#Bitwise Operator\n",
        "a = 12  # Binary: 1100\n",
        "b = 5   # Binary: 0101\n",
        "\n",
        "# Perform bitwise AND, OR, and XOR\n",
        "and_result = a & b\n",
        "or_result = a | b\n",
        "xor_result = a ^ b\n",
        "not_a = ~a\n",
        "shift_left = a << 1\n",
        "shift_right = a >> 1\n",
        "\n",
        "print(\"Bitwise AND:\", and_result)        # Output: 4 (Binary: 0100)\n",
        "print(\"Bitwise OR:\", or_result)          # Output: 13 (Binary: 1101)\n",
        "print(\"Bitwise XOR:\", xor_result)        # Output: 9 (Binary: 1001)\n",
        "print(\"Bitwise NOT of a:\", not_a)        # Output: -13 (Binary: ...11110011 in 2's complement)\n",
        "print(\"Left Shift a by 1:\", shift_left)  # Output: 24 (Binary: 11000)\n",
        "print(\"Right Shift a by 1:\", shift_right) # Output: 6 (Binary: 0110)"
      ],
      "metadata": {
        "colab": {
          "base_uri": "https://localhost:8080/"
        },
        "id": "cE61D5RPQZd8",
        "outputId": "0f907ebf-b607-4871-9d3b-758d3cc56604"
      },
      "execution_count": 6,
      "outputs": [
        {
          "output_type": "stream",
          "name": "stdout",
          "text": [
            "Bitwise AND: 4\n",
            "Bitwise OR: 13\n",
            "Bitwise XOR: 9\n",
            "Bitwise NOT of a: -13\n",
            "Left Shift a by 1: 24\n",
            "Right Shift a by 1: 6\n"
          ]
        }
      ]
    },
    {
      "cell_type": "code",
      "source": [
        "#identity and membership operator\n",
        "fruits = [\"apple\", \"banana\", \"cherry\"]\n",
        "a = fruits\n",
        "\n",
        "# Using identity and membership operators\n",
        "print(\"Is 'banana' in fruits?\", 'banana' in fruits)  # Membership check\n",
        "print(\"Is a the same object as fruits?\", a is fruits)  # Identity check"
      ],
      "metadata": {
        "colab": {
          "base_uri": "https://localhost:8080/"
        },
        "id": "t3mDXQodQ-KT",
        "outputId": "33ee3fe9-ff53-4d13-9d8c-c40b25ff38cc"
      },
      "execution_count": 7,
      "outputs": [
        {
          "output_type": "stream",
          "name": "stdout",
          "text": [
            "Is 'banana' in fruits? True\n",
            "Is a the same object as fruits? True\n"
          ]
        }
      ]
    },
    {
      "cell_type": "code",
      "source": [],
      "metadata": {
        "id": "eR8NJ1-TR7Dl"
      },
      "execution_count": null,
      "outputs": []
    }
  ]
}