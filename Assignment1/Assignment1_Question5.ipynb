{
  "nbformat": 4,
  "nbformat_minor": 0,
  "metadata": {
    "colab": {
      "provenance": []
    },
    "kernelspec": {
      "name": "python3",
      "display_name": "Python 3"
    },
    "language_info": {
      "name": "python"
    }
  },
  "cells": [
    {
      "cell_type": "code",
      "execution_count": null,
      "metadata": {
        "id": "D6eJ1EqzTqs_"
      },
      "outputs": [],
      "source": [
        "'''Type Casting\n",
        "\n",
        "Type casting, also referred to as type conversion, is the process of changing one data type to another in Python.\n",
        "Python provides built-in functions for type casting, such as int(), float(), str(), list(), tuple(), dict(), etc.\n",
        "Type casting is often necessary for performing arithmetic operations, data manipulation, and input/output operations in Python programs.\n",
        "\n",
        "Implicit Type Casting (Automatic Type Conversion): Python automatically converts one data type to another when necessary\n",
        "\n",
        "Explicit Type Casting (Manual Conversion): The programmer explicitly converts one data type to another using built-in functions,\n",
        "like int(), str(), etc. This was demonstrated earlier in the examples.'''"
      ]
    },
    {
      "cell_type": "code",
      "source": [
        "# Implicit typecasting and explicit typecasting example\n",
        "\n",
        "a = 7            # Integer\n",
        "b = 2.5          # Float\n",
        "c = \"3.14\"       # String\n",
        "\n",
        "# Implicit typecasting: a is automatically converted to float when added to b\n",
        "sum_result = a + b\n",
        "print(sum_result)  # Output: 9.5\n",
        "\n",
        "# Explicit typecasting: converting string to float\n",
        "c_float = float(c)\n",
        "\n",
        "# Adding integer and string (after converting string to float explicitly)\n",
        "final_result = sum_result + c_float\n",
        "print(final_result)  # Output: 12.64\n",
        "\n",
        "# Converting result back to integer\n",
        "final_int_result = int(final_result)\n",
        "print(final_int_result)  # Output: 12"
      ],
      "metadata": {
        "colab": {
          "base_uri": "https://localhost:8080/"
        },
        "id": "L9Pf9xW6TtQQ",
        "outputId": "aec43fdf-cffc-47cf-c3c0-40e471c6c95e"
      },
      "execution_count": 1,
      "outputs": [
        {
          "output_type": "stream",
          "name": "stdout",
          "text": [
            "Sum result (implicit casting): 9.5\n",
            "12.64\n",
            "12\n"
          ]
        }
      ]
    },
    {
      "cell_type": "code",
      "source": [],
      "metadata": {
        "id": "nM9pveMoU5js"
      },
      "execution_count": null,
      "outputs": []
    }
  ]
}