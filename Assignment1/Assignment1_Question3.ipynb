{
  "nbformat": 4,
  "nbformat_minor": 0,
  "metadata": {
    "colab": {
      "provenance": []
    },
    "kernelspec": {
      "name": "python3",
      "display_name": "Python 3"
    },
    "language_info": {
      "name": "python"
    }
  },
  "cells": [
    {
      "cell_type": "code",
      "execution_count": 4,
      "metadata": {
        "colab": {
          "base_uri": "https://localhost:8080/",
          "height": 88
        },
        "id": "ZBcQvrUEH48u",
        "outputId": "eaac16e8-efc2-41ef-f004-808d28653777"
      },
      "outputs": [
        {
          "output_type": "execute_result",
          "data": {
            "text/plain": [
              "'In Python, objects are categorized as either mutable or immutable based on whether or not their state (or data) can be \\nchanged after they are created. \\nMutable objects can be changed after they are created. This means you can modify their content, add or remove elements, etc., without changing the object’s identity.\\nExamples of Mutable Types: Lists, dictionaries, sets, and byte arrays.\\n\\nImmutable objects cannot be changed once they are created. Any operation that tries to modify an immutable object will create a new object instead.\\nExamples of Immutable Types: Integers, floats, strings, tuples.\\n\\n'"
            ],
            "application/vnd.google.colaboratory.intrinsic+json": {
              "type": "string"
            }
          },
          "metadata": {},
          "execution_count": 4
        }
      ],
      "source": [
        "'''In Python, objects are categorized as either mutable or immutable based on whether or not their state (or data) can be\n",
        "changed after they are created.\n",
        "Mutable objects can be changed after they are created. This means you can modify their content, add or remove elements, etc., without changing the object’s identity.\n",
        "Examples of Mutable Types: Lists, dictionaries, sets, and byte arrays.\n",
        "\n",
        "Immutable objects cannot be changed once they are created. Any operation that tries to modify an immutable object will create a new object instead.\n",
        "Examples of Immutable Types: Integers, floats, strings, tuples.\n",
        "\n",
        "'''\n"
      ]
    },
    {
      "cell_type": "code",
      "source": [
        "my_list = [1, 2, 3]\n",
        "my_list[0] = 10   # Changing the first element\n",
        "print(my_list)    # Output: [10, 2, 3] muttable object"
      ],
      "metadata": {
        "colab": {
          "base_uri": "https://localhost:8080/"
        },
        "id": "b41drCEbIxdT",
        "outputId": "dcbce1c5-1708-4476-f19f-f5e0e8f318fa"
      },
      "execution_count": 2,
      "outputs": [
        {
          "output_type": "stream",
          "name": "stdout",
          "text": [
            "[10, 2, 3]\n"
          ]
        }
      ]
    },
    {
      "cell_type": "code",
      "source": [
        "my_string = \"hello\"\n",
        "new_string = my_string.replace(\"h\", \"j\")\n",
        "print(my_string)      # Output: \"hello\" (original string remains unchanged)\n",
        "print(new_string)     # Output: \"jello\" (a new string is created)"
      ],
      "metadata": {
        "colab": {
          "base_uri": "https://localhost:8080/"
        },
        "id": "o6rnp_JaJna7",
        "outputId": "14c5215a-87e1-42a8-db56-d33a707ccb84"
      },
      "execution_count": 3,
      "outputs": [
        {
          "output_type": "stream",
          "name": "stdout",
          "text": [
            "hello\n",
            "jello\n"
          ]
        }
      ]
    },
    {
      "cell_type": "code",
      "source": [],
      "metadata": {
        "id": "Mj3USIfPJ6BK"
      },
      "execution_count": null,
      "outputs": []
    }
  ]
}